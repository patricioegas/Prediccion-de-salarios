{
  "nbformat": 4,
  "nbformat_minor": 0,
  "metadata": {
    "colab": {
      "provenance": [],
      "authorship_tag": "ABX9TyObvoJg8oDDUETLMN9E2l3m"
    },
    "kernelspec": {
      "name": "python3",
      "display_name": "Python 3"
    },
    "language_info": {
      "name": "python"
    }
  },
  "cells": [
    {
      "cell_type": "code",
      "execution_count": 2,
      "metadata": {
        "id": "ViPYhiQdVDGk"
      },
      "outputs": [],
      "source": [
        "# Importar librerías\n",
        "import matplotlib.pyplot as plt\n",
        "import seaborn as sns\n",
        "import pandas as pd\n",
        "import numpy as np\n",
        "from sklearn.preprocessing import StandardScaler, OneHotEncoder\n",
        "from sklearn.impute import SimpleImputer\n",
        "from sklearn.compose import make_column_transformer, make_column_selector\n",
        "from sklearn.pipeline import make_pipeline\n",
        "from sklearn.model_selection import train_test_split\n",
        "from sklearn import set_config\n",
        "set_config(display='diagram')"
      ]
    },
    {
      "cell_type": "code",
      "source": [
        "# Montar drive\n",
        "from google.colab import drive\n",
        "drive.mount('/content/drive')"
      ],
      "metadata": {
        "colab": {
          "base_uri": "https://localhost:8080/"
        },
        "id": "6_01IAOAXF4_",
        "outputId": "03dab41c-6af5-43ef-c6fe-aefd144ba251"
      },
      "execution_count": 3,
      "outputs": [
        {
          "output_type": "stream",
          "name": "stdout",
          "text": [
            "Mounted at /content/drive\n"
          ]
        }
      ]
    },
    {
      "cell_type": "code",
      "source": [
        "# Importar datos\n",
        "path = '/content/drive/MyDrive/Coding Dojo/Modulo 2/ds_salaries.csv'\n",
        "df = pd.read_csv(path)\n",
        "df.head()"
      ],
      "metadata": {
        "colab": {
          "base_uri": "https://localhost:8080/",
          "height": 374
        },
        "id": "1ewcjVEoXazA",
        "outputId": "3b4ccc5c-1459-4ad3-97bd-1b46385aba16"
      },
      "execution_count": 212,
      "outputs": [
        {
          "output_type": "execute_result",
          "data": {
            "text/plain": [
              "   work_year experience_level employment_type                 job_title  \\\n",
              "0       2023               SE              FT  Principal Data Scientist   \n",
              "1       2023               MI              CT               ML Engineer   \n",
              "2       2023               MI              CT               ML Engineer   \n",
              "3       2023               SE              FT            Data Scientist   \n",
              "4       2023               SE              FT            Data Scientist   \n",
              "\n",
              "   salary salary_currency  salary_in_usd employee_residence  remote_ratio  \\\n",
              "0   80000             EUR          85847                 ES           100   \n",
              "1   30000             USD          30000                 US           100   \n",
              "2   25500             USD          25500                 US           100   \n",
              "3  175000             USD         175000                 CA           100   \n",
              "4  120000             USD         120000                 CA           100   \n",
              "\n",
              "  company_location company_size  \n",
              "0               ES            L  \n",
              "1               US            S  \n",
              "2               US            S  \n",
              "3               CA            M  \n",
              "4               CA            M  "
            ],
            "text/html": [
              "\n",
              "  <div id=\"df-a270f8ab-7291-47ef-a569-2c2ca0be439e\">\n",
              "    <div class=\"colab-df-container\">\n",
              "      <div>\n",
              "<style scoped>\n",
              "    .dataframe tbody tr th:only-of-type {\n",
              "        vertical-align: middle;\n",
              "    }\n",
              "\n",
              "    .dataframe tbody tr th {\n",
              "        vertical-align: top;\n",
              "    }\n",
              "\n",
              "    .dataframe thead th {\n",
              "        text-align: right;\n",
              "    }\n",
              "</style>\n",
              "<table border=\"1\" class=\"dataframe\">\n",
              "  <thead>\n",
              "    <tr style=\"text-align: right;\">\n",
              "      <th></th>\n",
              "      <th>work_year</th>\n",
              "      <th>experience_level</th>\n",
              "      <th>employment_type</th>\n",
              "      <th>job_title</th>\n",
              "      <th>salary</th>\n",
              "      <th>salary_currency</th>\n",
              "      <th>salary_in_usd</th>\n",
              "      <th>employee_residence</th>\n",
              "      <th>remote_ratio</th>\n",
              "      <th>company_location</th>\n",
              "      <th>company_size</th>\n",
              "    </tr>\n",
              "  </thead>\n",
              "  <tbody>\n",
              "    <tr>\n",
              "      <th>0</th>\n",
              "      <td>2023</td>\n",
              "      <td>SE</td>\n",
              "      <td>FT</td>\n",
              "      <td>Principal Data Scientist</td>\n",
              "      <td>80000</td>\n",
              "      <td>EUR</td>\n",
              "      <td>85847</td>\n",
              "      <td>ES</td>\n",
              "      <td>100</td>\n",
              "      <td>ES</td>\n",
              "      <td>L</td>\n",
              "    </tr>\n",
              "    <tr>\n",
              "      <th>1</th>\n",
              "      <td>2023</td>\n",
              "      <td>MI</td>\n",
              "      <td>CT</td>\n",
              "      <td>ML Engineer</td>\n",
              "      <td>30000</td>\n",
              "      <td>USD</td>\n",
              "      <td>30000</td>\n",
              "      <td>US</td>\n",
              "      <td>100</td>\n",
              "      <td>US</td>\n",
              "      <td>S</td>\n",
              "    </tr>\n",
              "    <tr>\n",
              "      <th>2</th>\n",
              "      <td>2023</td>\n",
              "      <td>MI</td>\n",
              "      <td>CT</td>\n",
              "      <td>ML Engineer</td>\n",
              "      <td>25500</td>\n",
              "      <td>USD</td>\n",
              "      <td>25500</td>\n",
              "      <td>US</td>\n",
              "      <td>100</td>\n",
              "      <td>US</td>\n",
              "      <td>S</td>\n",
              "    </tr>\n",
              "    <tr>\n",
              "      <th>3</th>\n",
              "      <td>2023</td>\n",
              "      <td>SE</td>\n",
              "      <td>FT</td>\n",
              "      <td>Data Scientist</td>\n",
              "      <td>175000</td>\n",
              "      <td>USD</td>\n",
              "      <td>175000</td>\n",
              "      <td>CA</td>\n",
              "      <td>100</td>\n",
              "      <td>CA</td>\n",
              "      <td>M</td>\n",
              "    </tr>\n",
              "    <tr>\n",
              "      <th>4</th>\n",
              "      <td>2023</td>\n",
              "      <td>SE</td>\n",
              "      <td>FT</td>\n",
              "      <td>Data Scientist</td>\n",
              "      <td>120000</td>\n",
              "      <td>USD</td>\n",
              "      <td>120000</td>\n",
              "      <td>CA</td>\n",
              "      <td>100</td>\n",
              "      <td>CA</td>\n",
              "      <td>M</td>\n",
              "    </tr>\n",
              "  </tbody>\n",
              "</table>\n",
              "</div>\n",
              "      <button class=\"colab-df-convert\" onclick=\"convertToInteractive('df-a270f8ab-7291-47ef-a569-2c2ca0be439e')\"\n",
              "              title=\"Convert this dataframe to an interactive table.\"\n",
              "              style=\"display:none;\">\n",
              "        \n",
              "  <svg xmlns=\"http://www.w3.org/2000/svg\" height=\"24px\"viewBox=\"0 0 24 24\"\n",
              "       width=\"24px\">\n",
              "    <path d=\"M0 0h24v24H0V0z\" fill=\"none\"/>\n",
              "    <path d=\"M18.56 5.44l.94 2.06.94-2.06 2.06-.94-2.06-.94-.94-2.06-.94 2.06-2.06.94zm-11 1L8.5 8.5l.94-2.06 2.06-.94-2.06-.94L8.5 2.5l-.94 2.06-2.06.94zm10 10l.94 2.06.94-2.06 2.06-.94-2.06-.94-.94-2.06-.94 2.06-2.06.94z\"/><path d=\"M17.41 7.96l-1.37-1.37c-.4-.4-.92-.59-1.43-.59-.52 0-1.04.2-1.43.59L10.3 9.45l-7.72 7.72c-.78.78-.78 2.05 0 2.83L4 21.41c.39.39.9.59 1.41.59.51 0 1.02-.2 1.41-.59l7.78-7.78 2.81-2.81c.8-.78.8-2.07 0-2.86zM5.41 20L4 18.59l7.72-7.72 1.47 1.35L5.41 20z\"/>\n",
              "  </svg>\n",
              "      </button>\n",
              "      \n",
              "  <style>\n",
              "    .colab-df-container {\n",
              "      display:flex;\n",
              "      flex-wrap:wrap;\n",
              "      gap: 12px;\n",
              "    }\n",
              "\n",
              "    .colab-df-convert {\n",
              "      background-color: #E8F0FE;\n",
              "      border: none;\n",
              "      border-radius: 50%;\n",
              "      cursor: pointer;\n",
              "      display: none;\n",
              "      fill: #1967D2;\n",
              "      height: 32px;\n",
              "      padding: 0 0 0 0;\n",
              "      width: 32px;\n",
              "    }\n",
              "\n",
              "    .colab-df-convert:hover {\n",
              "      background-color: #E2EBFA;\n",
              "      box-shadow: 0px 1px 2px rgba(60, 64, 67, 0.3), 0px 1px 3px 1px rgba(60, 64, 67, 0.15);\n",
              "      fill: #174EA6;\n",
              "    }\n",
              "\n",
              "    [theme=dark] .colab-df-convert {\n",
              "      background-color: #3B4455;\n",
              "      fill: #D2E3FC;\n",
              "    }\n",
              "\n",
              "    [theme=dark] .colab-df-convert:hover {\n",
              "      background-color: #434B5C;\n",
              "      box-shadow: 0px 1px 3px 1px rgba(0, 0, 0, 0.15);\n",
              "      filter: drop-shadow(0px 1px 2px rgba(0, 0, 0, 0.3));\n",
              "      fill: #FFFFFF;\n",
              "    }\n",
              "  </style>\n",
              "\n",
              "      <script>\n",
              "        const buttonEl =\n",
              "          document.querySelector('#df-a270f8ab-7291-47ef-a569-2c2ca0be439e button.colab-df-convert');\n",
              "        buttonEl.style.display =\n",
              "          google.colab.kernel.accessAllowed ? 'block' : 'none';\n",
              "\n",
              "        async function convertToInteractive(key) {\n",
              "          const element = document.querySelector('#df-a270f8ab-7291-47ef-a569-2c2ca0be439e');\n",
              "          const dataTable =\n",
              "            await google.colab.kernel.invokeFunction('convertToInteractive',\n",
              "                                                     [key], {});\n",
              "          if (!dataTable) return;\n",
              "\n",
              "          const docLinkHtml = 'Like what you see? Visit the ' +\n",
              "            '<a target=\"_blank\" href=https://colab.research.google.com/notebooks/data_table.ipynb>data table notebook</a>'\n",
              "            + ' to learn more about interactive tables.';\n",
              "          element.innerHTML = '';\n",
              "          dataTable['output_type'] = 'display_data';\n",
              "          await google.colab.output.renderOutput(dataTable, element);\n",
              "          const docLink = document.createElement('div');\n",
              "          docLink.innerHTML = docLinkHtml;\n",
              "          element.appendChild(docLink);\n",
              "        }\n",
              "      </script>\n",
              "    </div>\n",
              "  </div>\n",
              "  "
            ]
          },
          "metadata": {},
          "execution_count": 212
        }
      ]
    },
    {
      "cell_type": "code",
      "source": [
        "df.info()"
      ],
      "metadata": {
        "colab": {
          "base_uri": "https://localhost:8080/"
        },
        "id": "c-kPkZY7oGo9",
        "outputId": "d0ec602f-075d-4212-b609-be52d0dfbd76"
      },
      "execution_count": 213,
      "outputs": [
        {
          "output_type": "stream",
          "name": "stdout",
          "text": [
            "<class 'pandas.core.frame.DataFrame'>\n",
            "RangeIndex: 3755 entries, 0 to 3754\n",
            "Data columns (total 11 columns):\n",
            " #   Column              Non-Null Count  Dtype \n",
            "---  ------              --------------  ----- \n",
            " 0   work_year           3755 non-null   int64 \n",
            " 1   experience_level    3755 non-null   object\n",
            " 2   employment_type     3755 non-null   object\n",
            " 3   job_title           3755 non-null   object\n",
            " 4   salary              3755 non-null   int64 \n",
            " 5   salary_currency     3755 non-null   object\n",
            " 6   salary_in_usd       3755 non-null   int64 \n",
            " 7   employee_residence  3755 non-null   object\n",
            " 8   remote_ratio        3755 non-null   int64 \n",
            " 9   company_location    3755 non-null   object\n",
            " 10  company_size        3755 non-null   object\n",
            "dtypes: int64(4), object(7)\n",
            "memory usage: 322.8+ KB\n"
          ]
        }
      ]
    },
    {
      "cell_type": "code",
      "source": [
        "# Cantidad de filas y columnas\n",
        "df.shape"
      ],
      "metadata": {
        "colab": {
          "base_uri": "https://localhost:8080/"
        },
        "id": "okmAZ7-YpfP8",
        "outputId": "452e1216-0e87-4284-f06e-9885495932d9"
      },
      "execution_count": 214,
      "outputs": [
        {
          "output_type": "execute_result",
          "data": {
            "text/plain": [
              "(3755, 11)"
            ]
          },
          "metadata": {},
          "execution_count": 214
        }
      ]
    },
    {
      "cell_type": "code",
      "source": [
        "# Buscar filas duplicadas\n",
        "df.duplicated()"
      ],
      "metadata": {
        "colab": {
          "base_uri": "https://localhost:8080/"
        },
        "id": "yMhE7Dj9ppyv",
        "outputId": "c31050f3-62a0-4dda-a8a7-d419933e75fd"
      },
      "execution_count": 215,
      "outputs": [
        {
          "output_type": "execute_result",
          "data": {
            "text/plain": [
              "0       False\n",
              "1       False\n",
              "2       False\n",
              "3       False\n",
              "4       False\n",
              "        ...  \n",
              "3750    False\n",
              "3751    False\n",
              "3752    False\n",
              "3753    False\n",
              "3754    False\n",
              "Length: 3755, dtype: bool"
            ]
          },
          "metadata": {},
          "execution_count": 215
        }
      ]
    },
    {
      "cell_type": "code",
      "source": [
        "# Contar valores duplicados\n",
        "df.duplicated().sum()"
      ],
      "metadata": {
        "colab": {
          "base_uri": "https://localhost:8080/"
        },
        "id": "yFnDLPYgp0JH",
        "outputId": "bafff8df-09d7-4efd-cbf0-399f6aacb63b"
      },
      "execution_count": 216,
      "outputs": [
        {
          "output_type": "execute_result",
          "data": {
            "text/plain": [
              "1171"
            ]
          },
          "metadata": {},
          "execution_count": 216
        }
      ]
    },
    {
      "cell_type": "markdown",
      "source": [
        "Debido a que no hay una columna con un identificador(código), ni se cuenta con variables que permitan construir un identificador único para cada registro, se decide no eliminar las filas que aparecen como duplicadas, ya que podría subestimarse el modelo y restar robustez a los resultados."
      ],
      "metadata": {
        "id": "D070IuAwqbO7"
      }
    },
    {
      "cell_type": "code",
      "source": [
        "# Eliminar duplicados\n",
        "#df = df.drop_duplicates()\n",
        "#df.duplicated().sum()"
      ],
      "metadata": {
        "id": "Zs0tlHLT8xg8"
      },
      "execution_count": 217,
      "outputs": []
    },
    {
      "cell_type": "code",
      "source": [
        "# Identificar valores faltantes(nulos) por columna\n",
        "df.isna().sum()"
      ],
      "metadata": {
        "colab": {
          "base_uri": "https://localhost:8080/"
        },
        "id": "P8pChzkerANv",
        "outputId": "76b8821b-3e34-458c-a1cc-6587368fc21a"
      },
      "execution_count": 218,
      "outputs": [
        {
          "output_type": "execute_result",
          "data": {
            "text/plain": [
              "work_year             0\n",
              "experience_level      0\n",
              "employment_type       0\n",
              "job_title             0\n",
              "salary                0\n",
              "salary_currency       0\n",
              "salary_in_usd         0\n",
              "employee_residence    0\n",
              "remote_ratio          0\n",
              "company_location      0\n",
              "company_size          0\n",
              "dtype: int64"
            ]
          },
          "metadata": {},
          "execution_count": 218
        }
      ]
    },
    {
      "cell_type": "code",
      "source": [
        "# Total de valores faltantes\n",
        "print(df.isna().sum().sum(), 'missing values')"
      ],
      "metadata": {
        "colab": {
          "base_uri": "https://localhost:8080/"
        },
        "id": "LfSoGF_irEDS",
        "outputId": "5b8c01da-4922-46ae-a700-fef77924abe6"
      },
      "execution_count": 219,
      "outputs": [
        {
          "output_type": "stream",
          "name": "stdout",
          "text": [
            "0 missing values\n"
          ]
        }
      ]
    },
    {
      "cell_type": "code",
      "source": [
        "df['experience_level'].value_counts()"
      ],
      "metadata": {
        "colab": {
          "base_uri": "https://localhost:8080/"
        },
        "id": "iZbmYqm1rH0Z",
        "outputId": "eb6c0538-a4b6-408f-95da-dc941f8825ed"
      },
      "execution_count": 220,
      "outputs": [
        {
          "output_type": "execute_result",
          "data": {
            "text/plain": [
              "SE    2516\n",
              "MI     805\n",
              "EN     320\n",
              "EX     114\n",
              "Name: experience_level, dtype: int64"
            ]
          },
          "metadata": {},
          "execution_count": 220
        }
      ]
    },
    {
      "cell_type": "markdown",
      "source": [
        "EN = Entry Level\n",
        "\n",
        "MI = Mid Level\n",
        "\n",
        "SE = Senior Level\n",
        "\n",
        "EX = Executive Level."
      ],
      "metadata": {
        "id": "C1MUQGvjsUPT"
      }
    },
    {
      "cell_type": "code",
      "source": [
        "df['company_size'].value_counts()"
      ],
      "metadata": {
        "colab": {
          "base_uri": "https://localhost:8080/"
        },
        "id": "2Uj1IpIgzNuX",
        "outputId": "e037d79c-a6bd-441d-b3f2-3a50a5dca23b"
      },
      "execution_count": 221,
      "outputs": [
        {
          "output_type": "execute_result",
          "data": {
            "text/plain": [
              "M    3153\n",
              "L     454\n",
              "S     148\n",
              "Name: company_size, dtype: int64"
            ]
          },
          "metadata": {},
          "execution_count": 221
        }
      ]
    },
    {
      "cell_type": "code",
      "source": [
        "df['job_title'].value_counts()"
      ],
      "metadata": {
        "colab": {
          "base_uri": "https://localhost:8080/"
        },
        "id": "F9QK9NDErobM",
        "outputId": "436e639b-a8c7-426c-f769-526be475272d"
      },
      "execution_count": 222,
      "outputs": [
        {
          "output_type": "execute_result",
          "data": {
            "text/plain": [
              "Data Engineer                          1040\n",
              "Data Scientist                          840\n",
              "Data Analyst                            612\n",
              "Machine Learning Engineer               289\n",
              "Analytics Engineer                      103\n",
              "                                       ... \n",
              "Principal Machine Learning Engineer       1\n",
              "Azure Data Engineer                       1\n",
              "Manager Data Management                   1\n",
              "Marketing Data Engineer                   1\n",
              "Finance Data Analyst                      1\n",
              "Name: job_title, Length: 93, dtype: int64"
            ]
          },
          "metadata": {},
          "execution_count": 222
        }
      ]
    },
    {
      "cell_type": "code",
      "source": [
        "# En la columna 'experience_level' se puede clasificar los datos de manera ordinal\n",
        "df['experience_level'] = df['experience_level'].replace('EN', 0)\n",
        "df['experience_level'] = df['experience_level'].replace('MI', 1)\n",
        "df['experience_level'] = df['experience_level'].replace('SE', 2)\n",
        "df['experience_level'] = df['experience_level'].replace('EX', 3)\n",
        "df['experience_level'].value_counts()"
      ],
      "metadata": {
        "colab": {
          "base_uri": "https://localhost:8080/"
        },
        "id": "dGn-MdW8r-tY",
        "outputId": "31d67fbc-67c2-4499-e30e-7121ca5f680f"
      },
      "execution_count": 223,
      "outputs": [
        {
          "output_type": "execute_result",
          "data": {
            "text/plain": [
              "2    2516\n",
              "1     805\n",
              "0     320\n",
              "3     114\n",
              "Name: experience_level, dtype: int64"
            ]
          },
          "metadata": {},
          "execution_count": 223
        }
      ]
    },
    {
      "cell_type": "code",
      "source": [
        "# La columna 'company_size' se puede clasificar manera ordinal\n",
        "df['company_size'] = df['company_size'].replace('S', 0)\n",
        "df['company_size'] = df['company_size'].replace('M', 1)\n",
        "df['company_size'] = df['company_size'].replace('L', 2)\n",
        "df['company_size'].value_counts()"
      ],
      "metadata": {
        "colab": {
          "base_uri": "https://localhost:8080/"
        },
        "id": "pjgnmN-yzWa3",
        "outputId": "4d75cbee-51c5-4f60-f3fa-5dc348ca2d16"
      },
      "execution_count": 224,
      "outputs": [
        {
          "output_type": "execute_result",
          "data": {
            "text/plain": [
              "1    3153\n",
              "2     454\n",
              "0     148\n",
              "Name: company_size, dtype: int64"
            ]
          },
          "metadata": {},
          "execution_count": 224
        }
      ]
    },
    {
      "cell_type": "code",
      "source": [
        "# Obtener las estadísticas de las columnas numéricas\n",
        "df.describe().round(2)"
      ],
      "metadata": {
        "colab": {
          "base_uri": "https://localhost:8080/",
          "height": 300
        },
        "id": "RZi3Pj1Q0WSw",
        "outputId": "96e437f2-6628-4fc6-b74e-5dccfc74da63"
      },
      "execution_count": 225,
      "outputs": [
        {
          "output_type": "execute_result",
          "data": {
            "text/plain": [
              "       work_year  experience_level       salary  salary_in_usd  remote_ratio  \\\n",
              "count    3755.00           3755.00      3755.00        3755.00       3755.00   \n",
              "mean     2022.37              1.65    190695.57      137570.39         46.27   \n",
              "std         0.69              0.68    671676.50       63055.63         48.59   \n",
              "min      2020.00              0.00      6000.00        5132.00          0.00   \n",
              "25%      2022.00              1.00    100000.00       95000.00          0.00   \n",
              "50%      2022.00              2.00    138000.00      135000.00          0.00   \n",
              "75%      2023.00              2.00    180000.00      175000.00        100.00   \n",
              "max      2023.00              3.00  30400000.00      450000.00        100.00   \n",
              "\n",
              "       company_size  \n",
              "count       3755.00  \n",
              "mean           1.08  \n",
              "std            0.39  \n",
              "min            0.00  \n",
              "25%            1.00  \n",
              "50%            1.00  \n",
              "75%            1.00  \n",
              "max            2.00  "
            ],
            "text/html": [
              "\n",
              "  <div id=\"df-2ba0c3b5-6b14-46d3-94da-27b2f12e2dcb\">\n",
              "    <div class=\"colab-df-container\">\n",
              "      <div>\n",
              "<style scoped>\n",
              "    .dataframe tbody tr th:only-of-type {\n",
              "        vertical-align: middle;\n",
              "    }\n",
              "\n",
              "    .dataframe tbody tr th {\n",
              "        vertical-align: top;\n",
              "    }\n",
              "\n",
              "    .dataframe thead th {\n",
              "        text-align: right;\n",
              "    }\n",
              "</style>\n",
              "<table border=\"1\" class=\"dataframe\">\n",
              "  <thead>\n",
              "    <tr style=\"text-align: right;\">\n",
              "      <th></th>\n",
              "      <th>work_year</th>\n",
              "      <th>experience_level</th>\n",
              "      <th>salary</th>\n",
              "      <th>salary_in_usd</th>\n",
              "      <th>remote_ratio</th>\n",
              "      <th>company_size</th>\n",
              "    </tr>\n",
              "  </thead>\n",
              "  <tbody>\n",
              "    <tr>\n",
              "      <th>count</th>\n",
              "      <td>3755.00</td>\n",
              "      <td>3755.00</td>\n",
              "      <td>3755.00</td>\n",
              "      <td>3755.00</td>\n",
              "      <td>3755.00</td>\n",
              "      <td>3755.00</td>\n",
              "    </tr>\n",
              "    <tr>\n",
              "      <th>mean</th>\n",
              "      <td>2022.37</td>\n",
              "      <td>1.65</td>\n",
              "      <td>190695.57</td>\n",
              "      <td>137570.39</td>\n",
              "      <td>46.27</td>\n",
              "      <td>1.08</td>\n",
              "    </tr>\n",
              "    <tr>\n",
              "      <th>std</th>\n",
              "      <td>0.69</td>\n",
              "      <td>0.68</td>\n",
              "      <td>671676.50</td>\n",
              "      <td>63055.63</td>\n",
              "      <td>48.59</td>\n",
              "      <td>0.39</td>\n",
              "    </tr>\n",
              "    <tr>\n",
              "      <th>min</th>\n",
              "      <td>2020.00</td>\n",
              "      <td>0.00</td>\n",
              "      <td>6000.00</td>\n",
              "      <td>5132.00</td>\n",
              "      <td>0.00</td>\n",
              "      <td>0.00</td>\n",
              "    </tr>\n",
              "    <tr>\n",
              "      <th>25%</th>\n",
              "      <td>2022.00</td>\n",
              "      <td>1.00</td>\n",
              "      <td>100000.00</td>\n",
              "      <td>95000.00</td>\n",
              "      <td>0.00</td>\n",
              "      <td>1.00</td>\n",
              "    </tr>\n",
              "    <tr>\n",
              "      <th>50%</th>\n",
              "      <td>2022.00</td>\n",
              "      <td>2.00</td>\n",
              "      <td>138000.00</td>\n",
              "      <td>135000.00</td>\n",
              "      <td>0.00</td>\n",
              "      <td>1.00</td>\n",
              "    </tr>\n",
              "    <tr>\n",
              "      <th>75%</th>\n",
              "      <td>2023.00</td>\n",
              "      <td>2.00</td>\n",
              "      <td>180000.00</td>\n",
              "      <td>175000.00</td>\n",
              "      <td>100.00</td>\n",
              "      <td>1.00</td>\n",
              "    </tr>\n",
              "    <tr>\n",
              "      <th>max</th>\n",
              "      <td>2023.00</td>\n",
              "      <td>3.00</td>\n",
              "      <td>30400000.00</td>\n",
              "      <td>450000.00</td>\n",
              "      <td>100.00</td>\n",
              "      <td>2.00</td>\n",
              "    </tr>\n",
              "  </tbody>\n",
              "</table>\n",
              "</div>\n",
              "      <button class=\"colab-df-convert\" onclick=\"convertToInteractive('df-2ba0c3b5-6b14-46d3-94da-27b2f12e2dcb')\"\n",
              "              title=\"Convert this dataframe to an interactive table.\"\n",
              "              style=\"display:none;\">\n",
              "        \n",
              "  <svg xmlns=\"http://www.w3.org/2000/svg\" height=\"24px\"viewBox=\"0 0 24 24\"\n",
              "       width=\"24px\">\n",
              "    <path d=\"M0 0h24v24H0V0z\" fill=\"none\"/>\n",
              "    <path d=\"M18.56 5.44l.94 2.06.94-2.06 2.06-.94-2.06-.94-.94-2.06-.94 2.06-2.06.94zm-11 1L8.5 8.5l.94-2.06 2.06-.94-2.06-.94L8.5 2.5l-.94 2.06-2.06.94zm10 10l.94 2.06.94-2.06 2.06-.94-2.06-.94-.94-2.06-.94 2.06-2.06.94z\"/><path d=\"M17.41 7.96l-1.37-1.37c-.4-.4-.92-.59-1.43-.59-.52 0-1.04.2-1.43.59L10.3 9.45l-7.72 7.72c-.78.78-.78 2.05 0 2.83L4 21.41c.39.39.9.59 1.41.59.51 0 1.02-.2 1.41-.59l7.78-7.78 2.81-2.81c.8-.78.8-2.07 0-2.86zM5.41 20L4 18.59l7.72-7.72 1.47 1.35L5.41 20z\"/>\n",
              "  </svg>\n",
              "      </button>\n",
              "      \n",
              "  <style>\n",
              "    .colab-df-container {\n",
              "      display:flex;\n",
              "      flex-wrap:wrap;\n",
              "      gap: 12px;\n",
              "    }\n",
              "\n",
              "    .colab-df-convert {\n",
              "      background-color: #E8F0FE;\n",
              "      border: none;\n",
              "      border-radius: 50%;\n",
              "      cursor: pointer;\n",
              "      display: none;\n",
              "      fill: #1967D2;\n",
              "      height: 32px;\n",
              "      padding: 0 0 0 0;\n",
              "      width: 32px;\n",
              "    }\n",
              "\n",
              "    .colab-df-convert:hover {\n",
              "      background-color: #E2EBFA;\n",
              "      box-shadow: 0px 1px 2px rgba(60, 64, 67, 0.3), 0px 1px 3px 1px rgba(60, 64, 67, 0.15);\n",
              "      fill: #174EA6;\n",
              "    }\n",
              "\n",
              "    [theme=dark] .colab-df-convert {\n",
              "      background-color: #3B4455;\n",
              "      fill: #D2E3FC;\n",
              "    }\n",
              "\n",
              "    [theme=dark] .colab-df-convert:hover {\n",
              "      background-color: #434B5C;\n",
              "      box-shadow: 0px 1px 3px 1px rgba(0, 0, 0, 0.15);\n",
              "      filter: drop-shadow(0px 1px 2px rgba(0, 0, 0, 0.3));\n",
              "      fill: #FFFFFF;\n",
              "    }\n",
              "  </style>\n",
              "\n",
              "      <script>\n",
              "        const buttonEl =\n",
              "          document.querySelector('#df-2ba0c3b5-6b14-46d3-94da-27b2f12e2dcb button.colab-df-convert');\n",
              "        buttonEl.style.display =\n",
              "          google.colab.kernel.accessAllowed ? 'block' : 'none';\n",
              "\n",
              "        async function convertToInteractive(key) {\n",
              "          const element = document.querySelector('#df-2ba0c3b5-6b14-46d3-94da-27b2f12e2dcb');\n",
              "          const dataTable =\n",
              "            await google.colab.kernel.invokeFunction('convertToInteractive',\n",
              "                                                     [key], {});\n",
              "          if (!dataTable) return;\n",
              "\n",
              "          const docLinkHtml = 'Like what you see? Visit the ' +\n",
              "            '<a target=\"_blank\" href=https://colab.research.google.com/notebooks/data_table.ipynb>data table notebook</a>'\n",
              "            + ' to learn more about interactive tables.';\n",
              "          element.innerHTML = '';\n",
              "          dataTable['output_type'] = 'display_data';\n",
              "          await google.colab.output.renderOutput(dataTable, element);\n",
              "          const docLink = document.createElement('div');\n",
              "          docLink.innerHTML = docLinkHtml;\n",
              "          element.appendChild(docLink);\n",
              "        }\n",
              "      </script>\n",
              "    </div>\n",
              "  </div>\n",
              "  "
            ]
          },
          "metadata": {},
          "execution_count": 225
        }
      ]
    },
    {
      "cell_type": "code",
      "source": [
        "# Hacer un histograma y remover notación científica\n",
        "df['salary_in_usd'].hist()\n",
        "plt.ticklabel_format(useOffset=False, style='plain')"
      ],
      "metadata": {
        "colab": {
          "base_uri": "https://localhost:8080/",
          "height": 430
        },
        "id": "ra57i7Bj0oUe",
        "outputId": "31acf58f-598c-45cd-8353-fa446e2f6598"
      },
      "execution_count": 226,
      "outputs": [
        {
          "output_type": "display_data",
          "data": {
            "text/plain": [
              "<Figure size 640x480 with 1 Axes>"
            ],
            "image/png": "[encoded data removed]"
          },
          "metadata": {}
        }
      ]
    },
    {
      "cell_type": "markdown",
      "source": [
        "Podemos ver que la la mayor concentración de observaciones, se concentran en el rango de salario 100000 a 200000."
      ],
      "metadata": {
        "id": "00V-BZH61AVW"
      }
    },
    {
      "cell_type": "code",
      "source": [
        "# Para analizar mejor los salarios, se genera un gráfico agregando una variable categórica\n",
        "# Se genera estilo seaborn\n",
        "# Se generan dos df, uno para cada filtro creado\n",
        "# Se genera el boxplot\n",
        "entry_level = df.loc[df['experience_level']==0,'salary_in_usd']\n",
        "senior_level = df.loc[df['experience_level']==2,'salary_in_usd']\n",
        "fig, axes = plt.subplots(nrows = 1, ncols = 1, figsize = (8,4))\n",
        "boxplots = axes.boxplot([entry_level,senior_level],\n",
        "           notch = True,\n",
        "           labels=['EN', 'SE'],\n",
        "           widths = .7,\n",
        "           patch_artist=True,\n",
        "           medianprops = dict(linestyle='-', linewidth=2, color='Yellow'),\n",
        "           boxprops = dict(linestyle='--', linewidth=2, color='Black', facecolor = 'blue', alpha = .4)\n",
        "          );\n",
        "# Se personaliza el gráfico\n",
        "boxplot1 = boxplots['boxes'][0]\n",
        "boxplot1.set_facecolor('red')\n",
        "plt.xlabel('experience_level', fontsize = 10);\n",
        "plt.ylabel('salary_in_usd', fontsize = 10);\n",
        "plt.xticks(fontsize = 10);\n",
        "plt.yticks(fontsize = 10);"
      ],
      "metadata": {
        "colab": {
          "base_uri": "https://localhost:8080/",
          "height": 388
        },
        "id": "VeKDsqqx1V8D",
        "outputId": "39c59486-e426-431a-ddab-3c90c8e928a6"
      },
      "execution_count": 227,
      "outputs": [
        {
          "output_type": "display_data",
          "data": {
            "text/plain": [
              "<Figure size 800x400 with 1 Axes>"
            ],
            "image/png": "[encoded data removed]"
          },
          "metadata": {}
        }
      ]
    },
    {
      "cell_type": "markdown",
      "source": [
        "Se puede observar que las distribuciones de los datos(salary_in_usd) son un poco diferentes cuando el nivel de experiencia es el más bajo y cuando es \"senior\". Además en ambos casos existen algunos valores atípicos que se encuentran por encima del \"máximo\", especialmente en el nivel de experiencia \"senior\"."
      ],
      "metadata": {
        "id": "Kig0BZwa3h4u"
      }
    },
    {
      "cell_type": "code",
      "source": [
        "# Visualizar el subgrupo de datos de salario >= a 25000 USD\n",
        "salary_filter = df.loc[:, 'salary_in_usd'] >= 250000\n",
        "df.loc[salary_filter, 'salary_in_usd'].hist(bins = 25,\n",
        "                                   edgecolor='black')\n",
        "plt.ticklabel_format(useOffset=False, style='plain')"
      ],
      "metadata": {
        "colab": {
          "base_uri": "https://localhost:8080/",
          "height": 430
        },
        "id": "-dN5QWABKOAJ",
        "outputId": "b6b4483a-dfdb-4d85-a865-76b31a9c3b7b"
      },
      "execution_count": 290,
      "outputs": [
        {
          "output_type": "display_data",
          "data": {
            "text/plain": [
              "<Figure size 640x480 with 1 Axes>"
            ],
            "image/png": "[encoded data removed]"
          },
          "metadata": {}
        }
      ]
    },
    {
      "cell_type": "markdown",
      "source": [
        "Dentro de este grupo existe una mayor concentración de datos en el rango de 25000 a 25500 USD aproximadamente, y en menor medida a partir de los 31000 USD."
      ],
      "metadata": {
        "id": "5SErLvz_LJW5"
      }
    },
    {
      "cell_type": "code",
      "source": [
        "# Hacer un gráfico de barras del salario, según el año y que la experiencia sea \"0\"(Entry level)\n",
        "experience_filter = df['experience_level'] == 0\n",
        "year = df.loc[experience_filter, :].groupby(['work_year'])['salary_in_usd'].mean().sort_values(ascending = False).head(10)\n",
        "year"
      ],
      "metadata": {
        "colab": {
          "base_uri": "https://localhost:8080/"
        },
        "id": "xAlpUsxv0ubT",
        "outputId": "f25e3b27-19b1-4eb5-a047-bd7e8cfc7590"
      },
      "execution_count": 295,
      "outputs": [
        {
          "output_type": "execute_result",
          "data": {
            "text/plain": [
              "work_year\n",
              "2023    95283.966102\n",
              "2022    77006.024194\n",
              "2020    57511.608696\n",
              "2021    54905.254545\n",
              "Name: salary_in_usd, dtype: float64"
            ]
          },
          "metadata": {},
          "execution_count": 295
        }
      ]
    },
    {
      "cell_type": "code",
      "source": [
        "sns.barplot(x = year.index, y = year.values);\n",
        "plt.xticks();"
      ],
      "metadata": {
        "colab": {
          "base_uri": "https://localhost:8080/",
          "height": 455
        },
        "id": "C1HVhFX05Mjn",
        "outputId": "8f8bab58-1a60-4bb8-e88e-e1e222d6c003"
      },
      "execution_count": 296,
      "outputs": [
        {
          "output_type": "display_data",
          "data": {
            "text/plain": [
              "<Figure size 640x480 with 1 Axes>"
            ],
            "image/png": "[encoded data removed]"
          },
          "metadata": {}
        }
      ]
    },
    {
      "cell_type": "markdown",
      "source": [
        "El gráfico nos muestra que los salarios en data science, para el grupo de personas con el menor nivel de experiencia ha incrementado considerablemente en los años 2022 y 2023."
      ],
      "metadata": {
        "id": "danXRoVH7vhT"
      }
    },
    {
      "cell_type": "code",
      "source": [
        "# Se agrega un mapa de calor, para hallar las correlaciones entre variables\n",
        "corr = df.corr()\n",
        "sns.heatmap(corr, cmap = 'Greens', annot = True)"
      ],
      "metadata": {
        "colab": {
          "base_uri": "https://localhost:8080/",
          "height": 610
        },
        "id": "4cn5Lrk64iE6",
        "outputId": "53686776-56cb-441c-a416-00ad46843781"
      },
      "execution_count": 228,
      "outputs": [
        {
          "output_type": "stream",
          "name": "stderr",
          "text": [
            "<ipython-input-228-25d31c46efb3>:2: FutureWarning: The default value of numeric_only in DataFrame.corr is deprecated. In a future version, it will default to False. Select only valid columns or specify the value of numeric_only to silence this warning.\n",
            "  corr = df.corr()\n"
          ]
        },
        {
          "output_type": "execute_result",
          "data": {
            "text/plain": [
              "<Axes: >"
            ]
          },
          "metadata": {},
          "execution_count": 228
        },
        {
          "output_type": "display_data",
          "data": {
            "text/plain": [
              "<Figure size 640x480 with 2 Axes>"
            ],
            "image/png": "[encoded data removed]"
          },
          "metadata": {}
        }
      ]
    },
    {
      "cell_type": "markdown",
      "source": [
        "La mejor correlación se da entre las variables \"salary_in_usd\" y \"experience_level\". No se han identificado otras relaciones entre variables, que tengan un nivel moderado de significancia."
      ],
      "metadata": {
        "id": "rZVbnWDP4qmo"
      }
    },
    {
      "cell_type": "code",
      "source": [
        "# \"salary_in_usd\" es el objetivo y el resto de las variables conforman la matriz de características\n",
        "# Se eliminan las variables \"salary\"\ty \"salary_currency\"\n",
        "X = df.drop(columns=['salary_in_usd', 'salary', 'salary_currency', 'work_year'])\n",
        "y = df['salary_in_usd']\n",
        "# Train Test Split\n",
        "X_train, X_test, y_train, y_test = train_test_split(X, y, random_state=42)"
      ],
      "metadata": {
        "id": "B0QDgwqR5RgI"
      },
      "execution_count": 229,
      "outputs": []
    },
    {
      "cell_type": "code",
      "source": [
        "# instanciar los selectores a nuestros tipos de datos numéricos y categóricos\n",
        "num_selector = make_column_selector(dtype_include='number')\n",
        "cat_selector = make_column_selector(dtype_include='object')"
      ],
      "metadata": {
        "id": "dfqZOjfvghgo"
      },
      "execution_count": 230,
      "outputs": []
    },
    {
      "cell_type": "code",
      "source": [
        "# Instanciar transformadores\n",
        "freq_imputer = SimpleImputer(strategy='most_frequent')\n",
        "mean_imputer = SimpleImputer(strategy='mean')\n",
        "# Scaler\n",
        "scaler = StandardScaler()\n",
        "# One-hot encoder\n",
        "ohe = OneHotEncoder(handle_unknown='ignore', sparse=False)"
      ],
      "metadata": {
        "id": "RRdlfsqH9r3P"
      },
      "execution_count": 231,
      "outputs": []
    },
    {
      "cell_type": "code",
      "source": [
        "# Instanciar pipelines\n",
        "# Numérico\n",
        "numeric_pipe = make_pipeline(mean_imputer, scaler)\n",
        "numeric_pipe"
      ],
      "metadata": {
        "colab": {
          "base_uri": "https://localhost:8080/",
          "height": 126
        },
        "id": "D8pfKfNw92Nk",
        "outputId": "a9852411-0930-4499-c837-00f702f91a23"
      },
      "execution_count": 232,
      "outputs": [
        {
          "output_type": "execute_result",
          "data": {
            "text/plain": [
              "Pipeline(steps=[('simpleimputer', SimpleImputer()),\n",
              "                ('standardscaler', StandardScaler())])"
            ],
            "text/html": [
              "<style>#sk-container-id-29 {color: black;background-color: white;}#sk-container-id-29 pre{padding: 0;}#sk-container-id-29 div.sk-toggleable {background-color: white;}#sk-container-id-29 label.sk-toggleable__label {cursor: pointer;display: block;width: 100%;margin-bottom: 0;padding: 0.3em;box-sizing: border-box;text-align: center;}#sk-container-id-29 label.sk-toggleable__label-arrow:before {content: \"▸\";float: left;margin-right: 0.25em;color: #696969;}#sk-container-id-29 label.sk-toggleable__label-arrow:hover:before {color: black;}#sk-container-id-29 div.sk-estimator:hover label.sk-toggleable__label-arrow:before {color: black;}#sk-container-id-29 div.sk-toggleable__content {max-height: 0;max-width: 0;overflow: hidden;text-align: left;background-color: #f0f8ff;}#sk-container-id-29 div.sk-toggleable__content pre {margin: 0.2em;color: black;border-radius: 0.25em;background-color: #f0f8ff;}#sk-container-id-29 input.sk-toggleable__control:checked~div.sk-toggleable__content {max-height: 200px;max-width: 100%;overflow: auto;}#sk-container-id-29 input.sk-toggleable__control:checked~label.sk-toggleable__label-arrow:before {content: \"▾\";}#sk-container-id-29 div.sk-estimator input.sk-toggleable__control:checked~label.sk-toggleable__label {background-color: #d4ebff;}#sk-container-id-29 div.sk-label input.sk-toggleable__control:checked~label.sk-toggleable__label {background-color: #d4ebff;}#sk-container-id-29 input.sk-hidden--visually {border: 0;clip: rect(1px 1px 1px 1px);clip: rect(1px, 1px, 1px, 1px);height: 1px;margin: -1px;overflow: hidden;padding: 0;position: absolute;width: 1px;}#sk-container-id-29 div.sk-estimator {font-family: monospace;background-color: #f0f8ff;border: 1px dotted black;border-radius: 0.25em;box-sizing: border-box;margin-bottom: 0.5em;}#sk-container-id-29 div.sk-estimator:hover {background-color: #d4ebff;}#sk-container-id-29 div.sk-parallel-item::after {content: \"\";width: 100%;border-bottom: 1px solid gray;flex-grow: 1;}#sk-container-id-29 div.sk-label:hover label.sk-toggleable__label {background-color: #d4ebff;}#sk-container-id-29 div.sk-serial::before {content: \"\";position: absolute;border-left: 1px solid gray;box-sizing: border-box;top: 0;bottom: 0;left: 50%;z-index: 0;}#sk-container-id-29 div.sk-serial {display: flex;flex-direction: column;align-items: center;background-color: white;padding-right: 0.2em;padding-left: 0.2em;position: relative;}#sk-container-id-29 div.sk-item {position: relative;z-index: 1;}#sk-container-id-29 div.sk-parallel {display: flex;align-items: stretch;justify-content: center;background-color: white;position: relative;}#sk-container-id-29 div.sk-item::before, #sk-container-id-29 div.sk-parallel-item::before {content: \"\";position: absolute;border-left: 1px solid gray;box-sizing: border-box;top: 0;bottom: 0;left: 50%;z-index: -1;}#sk-container-id-29 div.sk-parallel-item {display: flex;flex-direction: column;z-index: 1;position: relative;background-color: white;}#sk-container-id-29 div.sk-parallel-item:first-child::after {align-self: flex-end;width: 50%;}#sk-container-id-29 div.sk-parallel-item:last-child::after {align-self: flex-start;width: 50%;}#sk-container-id-29 div.sk-parallel-item:only-child::after {width: 0;}#sk-container-id-29 div.sk-dashed-wrapped {border: 1px dashed gray;margin: 0 0.4em 0.5em 0.4em;box-sizing: border-box;padding-bottom: 0.4em;background-color: white;}#sk-container-id-29 div.sk-label label {font-family: monospace;font-weight: bold;display: inline-block;line-height: 1.2em;}#sk-container-id-29 div.sk-label-container {text-align: center;}#sk-container-id-29 div.sk-container {/* jupyter's `normalize.less` sets `[hidden] { display: none; }` but bootstrap.min.css set `[hidden] { display: none !important; }` so we also need the `!important` here to be able to override the default hidden behavior on the sphinx rendered scikit-learn.org. See: https://github.com/scikit-learn/scikit-learn/issues/21755 */display: inline-block !important;position: relative;}#sk-container-id-29 div.sk-text-repr-fallback {display: none;}</style><div id=\"sk-container-id-29\" class=\"sk-top-container\"><div class=\"sk-text-repr-fallback\"><pre>Pipeline(steps=[(&#x27;simpleimputer&#x27;, SimpleImputer()),\n",
              "                (&#x27;standardscaler&#x27;, StandardScaler())])</pre><b>In a Jupyter environment, please rerun this cell to show the HTML representation or trust the notebook. <br />On GitHub, the HTML representation is unable to render, please try loading this page with nbviewer.org.</b></div><div class=\"sk-container\" hidden><div class=\"sk-item sk-dashed-wrapped\"><div class=\"sk-label-container\"><div class=\"sk-label sk-toggleable\"><input class=\"sk-toggleable__control sk-hidden--visually\" id=\"sk-estimator-id-93\" type=\"checkbox\" ><label for=\"sk-estimator-id-93\" class=\"sk-toggleable__label sk-toggleable__label-arrow\">Pipeline</label><div class=\"sk-toggleable__content\"><pre>Pipeline(steps=[(&#x27;simpleimputer&#x27;, SimpleImputer()),\n",
              "                (&#x27;standardscaler&#x27;, StandardScaler())])</pre></div></div></div><div class=\"sk-serial\"><div class=\"sk-item\"><div class=\"sk-estimator sk-toggleable\"><input class=\"sk-toggleable__control sk-hidden--visually\" id=\"sk-estimator-id-94\" type=\"checkbox\" ><label for=\"sk-estimator-id-94\" class=\"sk-toggleable__label sk-toggleable__label-arrow\">SimpleImputer</label><div class=\"sk-toggleable__content\"><pre>SimpleImputer()</pre></div></div></div><div class=\"sk-item\"><div class=\"sk-estimator sk-toggleable\"><input class=\"sk-toggleable__control sk-hidden--visually\" id=\"sk-estimator-id-95\" type=\"checkbox\" ><label for=\"sk-estimator-id-95\" class=\"sk-toggleable__label sk-toggleable__label-arrow\">StandardScaler</label><div class=\"sk-toggleable__content\"><pre>StandardScaler()</pre></div></div></div></div></div></div></div>"
            ]
          },
          "metadata": {},
          "execution_count": 232
        }
      ]
    },
    {
      "cell_type": "code",
      "source": [
        "# Categórico\n",
        "categorical_pipe = make_pipeline(freq_imputer, ohe)\n",
        "categorical_pipe"
      ],
      "metadata": {
        "colab": {
          "base_uri": "https://localhost:8080/",
          "height": 126
        },
        "id": "qeNImfXh-BlG",
        "outputId": "3a952a41-5f66-48be-9449-c80ef9f30496"
      },
      "execution_count": 233,
      "outputs": [
        {
          "output_type": "execute_result",
          "data": {
            "text/plain": [
              "Pipeline(steps=[('simpleimputer', SimpleImputer(strategy='most_frequent')),\n",
              "                ('onehotencoder',\n",
              "                 OneHotEncoder(handle_unknown='ignore', sparse=False))])"
            ],
            "text/html": [
              "<style>#sk-container-id-30 {color: black;background-color: white;}#sk-container-id-30 pre{padding: 0;}#sk-container-id-30 div.sk-toggleable {background-color: white;}#sk-container-id-30 label.sk-toggleable__label {cursor: pointer;display: block;width: 100%;margin-bottom: 0;padding: 0.3em;box-sizing: border-box;text-align: center;}#sk-container-id-30 label.sk-toggleable__label-arrow:before {content: \"▸\";float: left;margin-right: 0.25em;color: #696969;}#sk-container-id-30 label.sk-toggleable__label-arrow:hover:before {color: black;}#sk-container-id-30 div.sk-estimator:hover label.sk-toggleable__label-arrow:before {color: black;}#sk-container-id-30 div.sk-toggleable__content {max-height: 0;max-width: 0;overflow: hidden;text-align: left;background-color: #f0f8ff;}#sk-container-id-30 div.sk-toggleable__content pre {margin: 0.2em;color: black;border-radius: 0.25em;background-color: #f0f8ff;}#sk-container-id-30 input.sk-toggleable__control:checked~div.sk-toggleable__content {max-height: 200px;max-width: 100%;overflow: auto;}#sk-container-id-30 input.sk-toggleable__control:checked~label.sk-toggleable__label-arrow:before {content: \"▾\";}#sk-container-id-30 div.sk-estimator input.sk-toggleable__control:checked~label.sk-toggleable__label {background-color: #d4ebff;}#sk-container-id-30 div.sk-label input.sk-toggleable__control:checked~label.sk-toggleable__label {background-color: #d4ebff;}#sk-container-id-30 input.sk-hidden--visually {border: 0;clip: rect(1px 1px 1px 1px);clip: rect(1px, 1px, 1px, 1px);height: 1px;margin: -1px;overflow: hidden;padding: 0;position: absolute;width: 1px;}#sk-container-id-30 div.sk-estimator {font-family: monospace;background-color: #f0f8ff;border: 1px dotted black;border-radius: 0.25em;box-sizing: border-box;margin-bottom: 0.5em;}#sk-container-id-30 div.sk-estimator:hover {background-color: #d4ebff;}#sk-container-id-30 div.sk-parallel-item::after {content: \"\";width: 100%;border-bottom: 1px solid gray;flex-grow: 1;}#sk-container-id-30 div.sk-label:hover label.sk-toggleable__label {background-color: #d4ebff;}#sk-container-id-30 div.sk-serial::before {content: \"\";position: absolute;border-left: 1px solid gray;box-sizing: border-box;top: 0;bottom: 0;left: 50%;z-index: 0;}#sk-container-id-30 div.sk-serial {display: flex;flex-direction: column;align-items: center;background-color: white;padding-right: 0.2em;padding-left: 0.2em;position: relative;}#sk-container-id-30 div.sk-item {position: relative;z-index: 1;}#sk-container-id-30 div.sk-parallel {display: flex;align-items: stretch;justify-content: center;background-color: white;position: relative;}#sk-container-id-30 div.sk-item::before, #sk-container-id-30 div.sk-parallel-item::before {content: \"\";position: absolute;border-left: 1px solid gray;box-sizing: border-box;top: 0;bottom: 0;left: 50%;z-index: -1;}#sk-container-id-30 div.sk-parallel-item {display: flex;flex-direction: column;z-index: 1;position: relative;background-color: white;}#sk-container-id-30 div.sk-parallel-item:first-child::after {align-self: flex-end;width: 50%;}#sk-container-id-30 div.sk-parallel-item:last-child::after {align-self: flex-start;width: 50%;}#sk-container-id-30 div.sk-parallel-item:only-child::after {width: 0;}#sk-container-id-30 div.sk-dashed-wrapped {border: 1px dashed gray;margin: 0 0.4em 0.5em 0.4em;box-sizing: border-box;padding-bottom: 0.4em;background-color: white;}#sk-container-id-30 div.sk-label label {font-family: monospace;font-weight: bold;display: inline-block;line-height: 1.2em;}#sk-container-id-30 div.sk-label-container {text-align: center;}#sk-container-id-30 div.sk-container {/* jupyter's `normalize.less` sets `[hidden] { display: none; }` but bootstrap.min.css set `[hidden] { display: none !important; }` so we also need the `!important` here to be able to override the default hidden behavior on the sphinx rendered scikit-learn.org. See: https://github.com/scikit-learn/scikit-learn/issues/21755 */display: inline-block !important;position: relative;}#sk-container-id-30 div.sk-text-repr-fallback {display: none;}</style><div id=\"sk-container-id-30\" class=\"sk-top-container\"><div class=\"sk-text-repr-fallback\"><pre>Pipeline(steps=[(&#x27;simpleimputer&#x27;, SimpleImputer(strategy=&#x27;most_frequent&#x27;)),\n",
              "                (&#x27;onehotencoder&#x27;,\n",
              "                 OneHotEncoder(handle_unknown=&#x27;ignore&#x27;, sparse=False))])</pre><b>In a Jupyter environment, please rerun this cell to show the HTML representation or trust the notebook. <br />On GitHub, the HTML representation is unable to render, please try loading this page with nbviewer.org.</b></div><div class=\"sk-container\" hidden><div class=\"sk-item sk-dashed-wrapped\"><div class=\"sk-label-container\"><div class=\"sk-label sk-toggleable\"><input class=\"sk-toggleable__control sk-hidden--visually\" id=\"sk-estimator-id-96\" type=\"checkbox\" ><label for=\"sk-estimator-id-96\" class=\"sk-toggleable__label sk-toggleable__label-arrow\">Pipeline</label><div class=\"sk-toggleable__content\"><pre>Pipeline(steps=[(&#x27;simpleimputer&#x27;, SimpleImputer(strategy=&#x27;most_frequent&#x27;)),\n",
              "                (&#x27;onehotencoder&#x27;,\n",
              "                 OneHotEncoder(handle_unknown=&#x27;ignore&#x27;, sparse=False))])</pre></div></div></div><div class=\"sk-serial\"><div class=\"sk-item\"><div class=\"sk-estimator sk-toggleable\"><input class=\"sk-toggleable__control sk-hidden--visually\" id=\"sk-estimator-id-97\" type=\"checkbox\" ><label for=\"sk-estimator-id-97\" class=\"sk-toggleable__label sk-toggleable__label-arrow\">SimpleImputer</label><div class=\"sk-toggleable__content\"><pre>SimpleImputer(strategy=&#x27;most_frequent&#x27;)</pre></div></div></div><div class=\"sk-item\"><div class=\"sk-estimator sk-toggleable\"><input class=\"sk-toggleable__control sk-hidden--visually\" id=\"sk-estimator-id-98\" type=\"checkbox\" ><label for=\"sk-estimator-id-98\" class=\"sk-toggleable__label sk-toggleable__label-arrow\">OneHotEncoder</label><div class=\"sk-toggleable__content\"><pre>OneHotEncoder(handle_unknown=&#x27;ignore&#x27;, sparse=False)</pre></div></div></div></div></div></div></div>"
            ]
          },
          "metadata": {},
          "execution_count": 233
        }
      ]
    },
    {
      "cell_type": "code",
      "source": [
        "# Instanciar\n",
        "# Tuplas para columntransformer\n",
        "number_tuple = (numeric_pipe, num_selector)\n",
        "category_tuple = (categorical_pipe, cat_selector)\n",
        "# ColumnTransformer\n",
        "preprocessor = make_column_transformer(number_tuple, category_tuple)\n",
        "preprocessor"
      ],
      "metadata": {
        "colab": {
          "base_uri": "https://localhost:8080/",
          "height": 152
        },
        "id": "2zmVZv14-BXB",
        "outputId": "ef963b2f-d5b8-43ab-d901-5a059a25e10d"
      },
      "execution_count": 234,
      "outputs": [
        {
          "output_type": "execute_result",
          "data": {
            "text/plain": [
              "ColumnTransformer(transformers=[('pipeline-1',\n",
              "                                 Pipeline(steps=[('simpleimputer',\n",
              "                                                  SimpleImputer()),\n",
              "                                                 ('standardscaler',\n",
              "                                                  StandardScaler())]),\n",
              "                                 <sklearn.compose._column_transformer.make_column_selector object at 0x7f8104186980>),\n",
              "                                ('pipeline-2',\n",
              "                                 Pipeline(steps=[('simpleimputer',\n",
              "                                                  SimpleImputer(strategy='most_frequent')),\n",
              "                                                 ('onehotencoder',\n",
              "                                                  OneHotEncoder(handle_unknown='ignore',\n",
              "                                                                sparse=False))]),\n",
              "                                 <sklearn.compose._column_transformer.make_column_selector object at 0x7f8104184e50>)])"
            ],
            "text/html": [
              "<style>#sk-container-id-31 {color: black;background-color: white;}#sk-container-id-31 pre{padding: 0;}#sk-container-id-31 div.sk-toggleable {background-color: white;}#sk-container-id-31 label.sk-toggleable__label {cursor: pointer;display: block;width: 100%;margin-bottom: 0;padding: 0.3em;box-sizing: border-box;text-align: center;}#sk-container-id-31 label.sk-toggleable__label-arrow:before {content: \"▸\";float: left;margin-right: 0.25em;color: #696969;}#sk-container-id-31 label.sk-toggleable__label-arrow:hover:before {color: black;}#sk-container-id-31 div.sk-estimator:hover label.sk-toggleable__label-arrow:before {color: black;}#sk-container-id-31 div.sk-toggleable__content {max-height: 0;max-width: 0;overflow: hidden;text-align: left;background-color: #f0f8ff;}#sk-container-id-31 div.sk-toggleable__content pre {margin: 0.2em;color: black;border-radius: 0.25em;background-color: #f0f8ff;}#sk-container-id-31 input.sk-toggleable__control:checked~div.sk-toggleable__content {max-height: 200px;max-width: 100%;overflow: auto;}#sk-container-id-31 input.sk-toggleable__control:checked~label.sk-toggleable__label-arrow:before {content: \"▾\";}#sk-container-id-31 div.sk-estimator input.sk-toggleable__control:checked~label.sk-toggleable__label {background-color: #d4ebff;}#sk-container-id-31 div.sk-label input.sk-toggleable__control:checked~label.sk-toggleable__label {background-color: #d4ebff;}#sk-container-id-31 input.sk-hidden--visually {border: 0;clip: rect(1px 1px 1px 1px);clip: rect(1px, 1px, 1px, 1px);height: 1px;margin: -1px;overflow: hidden;padding: 0;position: absolute;width: 1px;}#sk-container-id-31 div.sk-estimator {font-family: monospace;background-color: #f0f8ff;border: 1px dotted black;border-radius: 0.25em;box-sizing: border-box;margin-bottom: 0.5em;}#sk-container-id-31 div.sk-estimator:hover {background-color: #d4ebff;}#sk-container-id-31 div.sk-parallel-item::after {content: \"\";width: 100%;border-bottom: 1px solid gray;flex-grow: 1;}#sk-container-id-31 div.sk-label:hover label.sk-toggleable__label {background-color: #d4ebff;}#sk-container-id-31 div.sk-serial::before {content: \"\";position: absolute;border-left: 1px solid gray;box-sizing: border-box;top: 0;bottom: 0;left: 50%;z-index: 0;}#sk-container-id-31 div.sk-serial {display: flex;flex-direction: column;align-items: center;background-color: white;padding-right: 0.2em;padding-left: 0.2em;position: relative;}#sk-container-id-31 div.sk-item {position: relative;z-index: 1;}#sk-container-id-31 div.sk-parallel {display: flex;align-items: stretch;justify-content: center;background-color: white;position: relative;}#sk-container-id-31 div.sk-item::before, #sk-container-id-31 div.sk-parallel-item::before {content: \"\";position: absolute;border-left: 1px solid gray;box-sizing: border-box;top: 0;bottom: 0;left: 50%;z-index: -1;}#sk-container-id-31 div.sk-parallel-item {display: flex;flex-direction: column;z-index: 1;position: relative;background-color: white;}#sk-container-id-31 div.sk-parallel-item:first-child::after {align-self: flex-end;width: 50%;}#sk-container-id-31 div.sk-parallel-item:last-child::after {align-self: flex-start;width: 50%;}#sk-container-id-31 div.sk-parallel-item:only-child::after {width: 0;}#sk-container-id-31 div.sk-dashed-wrapped {border: 1px dashed gray;margin: 0 0.4em 0.5em 0.4em;box-sizing: border-box;padding-bottom: 0.4em;background-color: white;}#sk-container-id-31 div.sk-label label {font-family: monospace;font-weight: bold;display: inline-block;line-height: 1.2em;}#sk-container-id-31 div.sk-label-container {text-align: center;}#sk-container-id-31 div.sk-container {/* jupyter's `normalize.less` sets `[hidden] { display: none; }` but bootstrap.min.css set `[hidden] { display: none !important; }` so we also need the `!important` here to be able to override the default hidden behavior on the sphinx rendered scikit-learn.org. See: https://github.com/scikit-learn/scikit-learn/issues/21755 */display: inline-block !important;position: relative;}#sk-container-id-31 div.sk-text-repr-fallback {display: none;}</style><div id=\"sk-container-id-31\" class=\"sk-top-container\"><div class=\"sk-text-repr-fallback\"><pre>ColumnTransformer(transformers=[(&#x27;pipeline-1&#x27;,\n",
              "                                 Pipeline(steps=[(&#x27;simpleimputer&#x27;,\n",
              "                                                  SimpleImputer()),\n",
              "                                                 (&#x27;standardscaler&#x27;,\n",
              "                                                  StandardScaler())]),\n",
              "                                 &lt;sklearn.compose._column_transformer.make_column_selector object at 0x7f8104186980&gt;),\n",
              "                                (&#x27;pipeline-2&#x27;,\n",
              "                                 Pipeline(steps=[(&#x27;simpleimputer&#x27;,\n",
              "                                                  SimpleImputer(strategy=&#x27;most_frequent&#x27;)),\n",
              "                                                 (&#x27;onehotencoder&#x27;,\n",
              "                                                  OneHotEncoder(handle_unknown=&#x27;ignore&#x27;,\n",
              "                                                                sparse=False))]),\n",
              "                                 &lt;sklearn.compose._column_transformer.make_column_selector object at 0x7f8104184e50&gt;)])</pre><b>In a Jupyter environment, please rerun this cell to show the HTML representation or trust the notebook. <br />On GitHub, the HTML representation is unable to render, please try loading this page with nbviewer.org.</b></div><div class=\"sk-container\" hidden><div class=\"sk-item sk-dashed-wrapped\"><div class=\"sk-label-container\"><div class=\"sk-label sk-toggleable\"><input class=\"sk-toggleable__control sk-hidden--visually\" id=\"sk-estimator-id-99\" type=\"checkbox\" ><label for=\"sk-estimator-id-99\" class=\"sk-toggleable__label sk-toggleable__label-arrow\">ColumnTransformer</label><div class=\"sk-toggleable__content\"><pre>ColumnTransformer(transformers=[(&#x27;pipeline-1&#x27;,\n",
              "                                 Pipeline(steps=[(&#x27;simpleimputer&#x27;,\n",
              "                                                  SimpleImputer()),\n",
              "                                                 (&#x27;standardscaler&#x27;,\n",
              "                                                  StandardScaler())]),\n",
              "                                 &lt;sklearn.compose._column_transformer.make_column_selector object at 0x7f8104186980&gt;),\n",
              "                                (&#x27;pipeline-2&#x27;,\n",
              "                                 Pipeline(steps=[(&#x27;simpleimputer&#x27;,\n",
              "                                                  SimpleImputer(strategy=&#x27;most_frequent&#x27;)),\n",
              "                                                 (&#x27;onehotencoder&#x27;,\n",
              "                                                  OneHotEncoder(handle_unknown=&#x27;ignore&#x27;,\n",
              "                                                                sparse=False))]),\n",
              "                                 &lt;sklearn.compose._column_transformer.make_column_selector object at 0x7f8104184e50&gt;)])</pre></div></div></div><div class=\"sk-parallel\"><div class=\"sk-parallel-item\"><div class=\"sk-item\"><div class=\"sk-label-container\"><div class=\"sk-label sk-toggleable\"><input class=\"sk-toggleable__control sk-hidden--visually\" id=\"sk-estimator-id-100\" type=\"checkbox\" ><label for=\"sk-estimator-id-100\" class=\"sk-toggleable__label sk-toggleable__label-arrow\">pipeline-1</label><div class=\"sk-toggleable__content\"><pre>&lt;sklearn.compose._column_transformer.make_column_selector object at 0x7f8104186980&gt;</pre></div></div></div><div class=\"sk-serial\"><div class=\"sk-item\"><div class=\"sk-serial\"><div class=\"sk-item\"><div class=\"sk-estimator sk-toggleable\"><input class=\"sk-toggleable__control sk-hidden--visually\" id=\"sk-estimator-id-101\" type=\"checkbox\" ><label for=\"sk-estimator-id-101\" class=\"sk-toggleable__label sk-toggleable__label-arrow\">SimpleImputer</label><div class=\"sk-toggleable__content\"><pre>SimpleImputer()</pre></div></div></div><div class=\"sk-item\"><div class=\"sk-estimator sk-toggleable\"><input class=\"sk-toggleable__control sk-hidden--visually\" id=\"sk-estimator-id-102\" type=\"checkbox\" ><label for=\"sk-estimator-id-102\" class=\"sk-toggleable__label sk-toggleable__label-arrow\">StandardScaler</label><div class=\"sk-toggleable__content\"><pre>StandardScaler()</pre></div></div></div></div></div></div></div></div><div class=\"sk-parallel-item\"><div class=\"sk-item\"><div class=\"sk-label-container\"><div class=\"sk-label sk-toggleable\"><input class=\"sk-toggleable__control sk-hidden--visually\" id=\"sk-estimator-id-103\" type=\"checkbox\" ><label for=\"sk-estimator-id-103\" class=\"sk-toggleable__label sk-toggleable__label-arrow\">pipeline-2</label><div class=\"sk-toggleable__content\"><pre>&lt;sklearn.compose._column_transformer.make_column_selector object at 0x7f8104184e50&gt;</pre></div></div></div><div class=\"sk-serial\"><div class=\"sk-item\"><div class=\"sk-serial\"><div class=\"sk-item\"><div class=\"sk-estimator sk-toggleable\"><input class=\"sk-toggleable__control sk-hidden--visually\" id=\"sk-estimator-id-104\" type=\"checkbox\" ><label for=\"sk-estimator-id-104\" class=\"sk-toggleable__label sk-toggleable__label-arrow\">SimpleImputer</label><div class=\"sk-toggleable__content\"><pre>SimpleImputer(strategy=&#x27;most_frequent&#x27;)</pre></div></div></div><div class=\"sk-item\"><div class=\"sk-estimator sk-toggleable\"><input class=\"sk-toggleable__control sk-hidden--visually\" id=\"sk-estimator-id-105\" type=\"checkbox\" ><label for=\"sk-estimator-id-105\" class=\"sk-toggleable__label sk-toggleable__label-arrow\">OneHotEncoder</label><div class=\"sk-toggleable__content\"><pre>OneHotEncoder(handle_unknown=&#x27;ignore&#x27;, sparse=False)</pre></div></div></div></div></div></div></div></div></div></div></div></div>"
            ]
          },
          "metadata": {},
          "execution_count": 234
        }
      ]
    },
    {
      "cell_type": "code",
      "source": [
        "# Ajustar a datos 'train'\n",
        "preprocessor.fit(X_train)"
      ],
      "metadata": {
        "colab": {
          "base_uri": "https://localhost:8080/",
          "height": 207
        },
        "id": "m2_XewBU-fWl",
        "outputId": "73c2a636-dacd-4692-d363-5d41253371f5"
      },
      "execution_count": 235,
      "outputs": [
        {
          "output_type": "stream",
          "name": "stderr",
          "text": [
            "/usr/local/lib/python3.10/dist-packages/sklearn/preprocessing/_encoders.py:868: FutureWarning: `sparse` was renamed to `sparse_output` in version 1.2 and will be removed in 1.4. `sparse_output` is ignored unless you leave `sparse` to its default value.\n",
            "  warnings.warn(\n"
          ]
        },
        {
          "output_type": "execute_result",
          "data": {
            "text/plain": [
              "ColumnTransformer(transformers=[('pipeline-1',\n",
              "                                 Pipeline(steps=[('simpleimputer',\n",
              "                                                  SimpleImputer()),\n",
              "                                                 ('standardscaler',\n",
              "                                                  StandardScaler())]),\n",
              "                                 <sklearn.compose._column_transformer.make_column_selector object at 0x7f8104186980>),\n",
              "                                ('pipeline-2',\n",
              "                                 Pipeline(steps=[('simpleimputer',\n",
              "                                                  SimpleImputer(strategy='most_frequent')),\n",
              "                                                 ('onehotencoder',\n",
              "                                                  OneHotEncoder(handle_unknown='ignore',\n",
              "                                                                sparse=False))]),\n",
              "                                 <sklearn.compose._column_transformer.make_column_selector object at 0x7f8104184e50>)])"
            ],
            "text/html": [
              "<style>#sk-container-id-32 {color: black;background-color: white;}#sk-container-id-32 pre{padding: 0;}#sk-container-id-32 div.sk-toggleable {background-color: white;}#sk-container-id-32 label.sk-toggleable__label {cursor: pointer;display: block;width: 100%;margin-bottom: 0;padding: 0.3em;box-sizing: border-box;text-align: center;}#sk-container-id-32 label.sk-toggleable__label-arrow:before {content: \"▸\";float: left;margin-right: 0.25em;color: #696969;}#sk-container-id-32 label.sk-toggleable__label-arrow:hover:before {color: black;}#sk-container-id-32 div.sk-estimator:hover label.sk-toggleable__label-arrow:before {color: black;}#sk-container-id-32 div.sk-toggleable__content {max-height: 0;max-width: 0;overflow: hidden;text-align: left;background-color: #f0f8ff;}#sk-container-id-32 div.sk-toggleable__content pre {margin: 0.2em;color: black;border-radius: 0.25em;background-color: #f0f8ff;}#sk-container-id-32 input.sk-toggleable__control:checked~div.sk-toggleable__content {max-height: 200px;max-width: 100%;overflow: auto;}#sk-container-id-32 input.sk-toggleable__control:checked~label.sk-toggleable__label-arrow:before {content: \"▾\";}#sk-container-id-32 div.sk-estimator input.sk-toggleable__control:checked~label.sk-toggleable__label {background-color: #d4ebff;}#sk-container-id-32 div.sk-label input.sk-toggleable__control:checked~label.sk-toggleable__label {background-color: #d4ebff;}#sk-container-id-32 input.sk-hidden--visually {border: 0;clip: rect(1px 1px 1px 1px);clip: rect(1px, 1px, 1px, 1px);height: 1px;margin: -1px;overflow: hidden;padding: 0;position: absolute;width: 1px;}#sk-container-id-32 div.sk-estimator {font-family: monospace;background-color: #f0f8ff;border: 1px dotted black;border-radius: 0.25em;box-sizing: border-box;margin-bottom: 0.5em;}#sk-container-id-32 div.sk-estimator:hover {background-color: #d4ebff;}#sk-container-id-32 div.sk-parallel-item::after {content: \"\";width: 100%;border-bottom: 1px solid gray;flex-grow: 1;}#sk-container-id-32 div.sk-label:hover label.sk-toggleable__label {background-color: #d4ebff;}#sk-container-id-32 div.sk-serial::before {content: \"\";position: absolute;border-left: 1px solid gray;box-sizing: border-box;top: 0;bottom: 0;left: 50%;z-index: 0;}#sk-container-id-32 div.sk-serial {display: flex;flex-direction: column;align-items: center;background-color: white;padding-right: 0.2em;padding-left: 0.2em;position: relative;}#sk-container-id-32 div.sk-item {position: relative;z-index: 1;}#sk-container-id-32 div.sk-parallel {display: flex;align-items: stretch;justify-content: center;background-color: white;position: relative;}#sk-container-id-32 div.sk-item::before, #sk-container-id-32 div.sk-parallel-item::before {content: \"\";position: absolute;border-left: 1px solid gray;box-sizing: border-box;top: 0;bottom: 0;left: 50%;z-index: -1;}#sk-container-id-32 div.sk-parallel-item {display: flex;flex-direction: column;z-index: 1;position: relative;background-color: white;}#sk-container-id-32 div.sk-parallel-item:first-child::after {align-self: flex-end;width: 50%;}#sk-container-id-32 div.sk-parallel-item:last-child::after {align-self: flex-start;width: 50%;}#sk-container-id-32 div.sk-parallel-item:only-child::after {width: 0;}#sk-container-id-32 div.sk-dashed-wrapped {border: 1px dashed gray;margin: 0 0.4em 0.5em 0.4em;box-sizing: border-box;padding-bottom: 0.4em;background-color: white;}#sk-container-id-32 div.sk-label label {font-family: monospace;font-weight: bold;display: inline-block;line-height: 1.2em;}#sk-container-id-32 div.sk-label-container {text-align: center;}#sk-container-id-32 div.sk-container {/* jupyter's `normalize.less` sets `[hidden] { display: none; }` but bootstrap.min.css set `[hidden] { display: none !important; }` so we also need the `!important` here to be able to override the default hidden behavior on the sphinx rendered scikit-learn.org. See: https://github.com/scikit-learn/scikit-learn/issues/21755 */display: inline-block !important;position: relative;}#sk-container-id-32 div.sk-text-repr-fallback {display: none;}</style><div id=\"sk-container-id-32\" class=\"sk-top-container\"><div class=\"sk-text-repr-fallback\"><pre>ColumnTransformer(transformers=[(&#x27;pipeline-1&#x27;,\n",
              "                                 Pipeline(steps=[(&#x27;simpleimputer&#x27;,\n",
              "                                                  SimpleImputer()),\n",
              "                                                 (&#x27;standardscaler&#x27;,\n",
              "                                                  StandardScaler())]),\n",
              "                                 &lt;sklearn.compose._column_transformer.make_column_selector object at 0x7f8104186980&gt;),\n",
              "                                (&#x27;pipeline-2&#x27;,\n",
              "                                 Pipeline(steps=[(&#x27;simpleimputer&#x27;,\n",
              "                                                  SimpleImputer(strategy=&#x27;most_frequent&#x27;)),\n",
              "                                                 (&#x27;onehotencoder&#x27;,\n",
              "                                                  OneHotEncoder(handle_unknown=&#x27;ignore&#x27;,\n",
              "                                                                sparse=False))]),\n",
              "                                 &lt;sklearn.compose._column_transformer.make_column_selector object at 0x7f8104184e50&gt;)])</pre><b>In a Jupyter environment, please rerun this cell to show the HTML representation or trust the notebook. <br />On GitHub, the HTML representation is unable to render, please try loading this page with nbviewer.org.</b></div><div class=\"sk-container\" hidden><div class=\"sk-item sk-dashed-wrapped\"><div class=\"sk-label-container\"><div class=\"sk-label sk-toggleable\"><input class=\"sk-toggleable__control sk-hidden--visually\" id=\"sk-estimator-id-106\" type=\"checkbox\" ><label for=\"sk-estimator-id-106\" class=\"sk-toggleable__label sk-toggleable__label-arrow\">ColumnTransformer</label><div class=\"sk-toggleable__content\"><pre>ColumnTransformer(transformers=[(&#x27;pipeline-1&#x27;,\n",
              "                                 Pipeline(steps=[(&#x27;simpleimputer&#x27;,\n",
              "                                                  SimpleImputer()),\n",
              "                                                 (&#x27;standardscaler&#x27;,\n",
              "                                                  StandardScaler())]),\n",
              "                                 &lt;sklearn.compose._column_transformer.make_column_selector object at 0x7f8104186980&gt;),\n",
              "                                (&#x27;pipeline-2&#x27;,\n",
              "                                 Pipeline(steps=[(&#x27;simpleimputer&#x27;,\n",
              "                                                  SimpleImputer(strategy=&#x27;most_frequent&#x27;)),\n",
              "                                                 (&#x27;onehotencoder&#x27;,\n",
              "                                                  OneHotEncoder(handle_unknown=&#x27;ignore&#x27;,\n",
              "                                                                sparse=False))]),\n",
              "                                 &lt;sklearn.compose._column_transformer.make_column_selector object at 0x7f8104184e50&gt;)])</pre></div></div></div><div class=\"sk-parallel\"><div class=\"sk-parallel-item\"><div class=\"sk-item\"><div class=\"sk-label-container\"><div class=\"sk-label sk-toggleable\"><input class=\"sk-toggleable__control sk-hidden--visually\" id=\"sk-estimator-id-107\" type=\"checkbox\" ><label for=\"sk-estimator-id-107\" class=\"sk-toggleable__label sk-toggleable__label-arrow\">pipeline-1</label><div class=\"sk-toggleable__content\"><pre>&lt;sklearn.compose._column_transformer.make_column_selector object at 0x7f8104186980&gt;</pre></div></div></div><div class=\"sk-serial\"><div class=\"sk-item\"><div class=\"sk-serial\"><div class=\"sk-item\"><div class=\"sk-estimator sk-toggleable\"><input class=\"sk-toggleable__control sk-hidden--visually\" id=\"sk-estimator-id-108\" type=\"checkbox\" ><label for=\"sk-estimator-id-108\" class=\"sk-toggleable__label sk-toggleable__label-arrow\">SimpleImputer</label><div class=\"sk-toggleable__content\"><pre>SimpleImputer()</pre></div></div></div><div class=\"sk-item\"><div class=\"sk-estimator sk-toggleable\"><input class=\"sk-toggleable__control sk-hidden--visually\" id=\"sk-estimator-id-109\" type=\"checkbox\" ><label for=\"sk-estimator-id-109\" class=\"sk-toggleable__label sk-toggleable__label-arrow\">StandardScaler</label><div class=\"sk-toggleable__content\"><pre>StandardScaler()</pre></div></div></div></div></div></div></div></div><div class=\"sk-parallel-item\"><div class=\"sk-item\"><div class=\"sk-label-container\"><div class=\"sk-label sk-toggleable\"><input class=\"sk-toggleable__control sk-hidden--visually\" id=\"sk-estimator-id-110\" type=\"checkbox\" ><label for=\"sk-estimator-id-110\" class=\"sk-toggleable__label sk-toggleable__label-arrow\">pipeline-2</label><div class=\"sk-toggleable__content\"><pre>&lt;sklearn.compose._column_transformer.make_column_selector object at 0x7f8104184e50&gt;</pre></div></div></div><div class=\"sk-serial\"><div class=\"sk-item\"><div class=\"sk-serial\"><div class=\"sk-item\"><div class=\"sk-estimator sk-toggleable\"><input class=\"sk-toggleable__control sk-hidden--visually\" id=\"sk-estimator-id-111\" type=\"checkbox\" ><label for=\"sk-estimator-id-111\" class=\"sk-toggleable__label sk-toggleable__label-arrow\">SimpleImputer</label><div class=\"sk-toggleable__content\"><pre>SimpleImputer(strategy=&#x27;most_frequent&#x27;)</pre></div></div></div><div class=\"sk-item\"><div class=\"sk-estimator sk-toggleable\"><input class=\"sk-toggleable__control sk-hidden--visually\" id=\"sk-estimator-id-112\" type=\"checkbox\" ><label for=\"sk-estimator-id-112\" class=\"sk-toggleable__label sk-toggleable__label-arrow\">OneHotEncoder</label><div class=\"sk-toggleable__content\"><pre>OneHotEncoder(handle_unknown=&#x27;ignore&#x27;, sparse=False)</pre></div></div></div></div></div></div></div></div></div></div></div></div>"
            ]
          },
          "metadata": {},
          "execution_count": 235
        }
      ]
    },
    {
      "cell_type": "code",
      "source": [
        "# Transformar datos 'train' y 'test'\n",
        "X_train_processed = preprocessor.transform(X_train)\n",
        "X_test_processed = preprocessor.transform(X_test)"
      ],
      "metadata": {
        "id": "Ai_R0_He-fJH"
      },
      "execution_count": 236,
      "outputs": []
    },
    {
      "cell_type": "code",
      "source": [
        "# Comprobar los valores faltantes y que los datos se escalen y tengan una codificación one-hot\n",
        "print(np.isnan(X_train_processed).sum().sum(), 'missing values in training data')\n",
        "print(np.isnan(X_test_processed).sum().sum(), 'missing values in testing data')\n",
        "print('\\n')\n",
        "print('All data in X_train_processed are', X_train_processed.dtype)\n",
        "print('All data in X_test_processed are', X_test_processed.dtype)\n",
        "print('\\n')\n",
        "print('shape of data is', X_train_processed.shape)\n",
        "print('\\n')\n",
        "X_train_processed"
      ],
      "metadata": {
        "colab": {
          "base_uri": "https://localhost:8080/"
        },
        "id": "jkISmbnY-x5U",
        "outputId": "fb7aa27a-28e9-4091-facb-f553ef5c0cb5"
      },
      "execution_count": 237,
      "outputs": [
        {
          "output_type": "stream",
          "name": "stdout",
          "text": [
            "0 missing values in training data\n",
            "0 missing values in testing data\n",
            "\n",
            "\n",
            "All data in X_train_processed are float64\n",
            "All data in X_test_processed are float64\n",
            "\n",
            "\n",
            "shape of data is (2816, 228)\n",
            "\n",
            "\n"
          ]
        },
        {
          "output_type": "execute_result",
          "data": {
            "text/plain": [
              "array([[-0.95776217,  1.08444468, -2.76695967, ...,  0.        ,\n",
              "         1.        ,  0.        ],\n",
              "       [ 0.52251131, -0.97198375, -0.21980098, ...,  0.        ,\n",
              "         1.        ,  0.        ],\n",
              "       [ 0.52251131,  1.08444468, -0.21980098, ...,  0.        ,\n",
              "         1.        ,  0.        ],\n",
              "       ...,\n",
              "       [ 2.00278479,  1.08444468, -0.21980098, ...,  0.        ,\n",
              "         1.        ,  0.        ],\n",
              "       [-0.95776217,  0.05623047, -0.21980098, ...,  0.        ,\n",
              "         0.        ,  0.        ],\n",
              "       [-0.95776217,  1.08444468, -0.21980098, ...,  0.        ,\n",
              "         0.        ,  0.        ]])"
            ]
          },
          "metadata": {},
          "execution_count": 237
        }
      ]
    },
    {
      "cell_type": "markdown",
      "source": [
        "**Modelo de regresión lineal para la predicción de salario**"
      ],
      "metadata": {
        "id": "yu06rVR_AZ4v"
      }
    },
    {
      "cell_type": "code",
      "source": [
        "# Importar el modelo\n",
        "from sklearn.linear_model import LinearRegression"
      ],
      "metadata": {
        "id": "-Os58qIoAfrL"
      },
      "execution_count": 238,
      "outputs": []
    },
    {
      "cell_type": "code",
      "source": [
        "# Instanciar el modelo\n",
        "reg = LinearRegression()"
      ],
      "metadata": {
        "id": "aBbJUPLrAoX_"
      },
      "execution_count": 239,
      "outputs": []
    },
    {
      "cell_type": "code",
      "source": [
        "# Encajar modelo para que aprenda relación entre \"x\" e \"y\"\n",
        "reg.fit(X_train_processed,y_train)"
      ],
      "metadata": {
        "colab": {
          "base_uri": "https://localhost:8080/",
          "height": 75
        },
        "id": "JASkeur_AoKc",
        "outputId": "ade7b38e-d190-426d-95f7-9d8614d0ec73"
      },
      "execution_count": 240,
      "outputs": [
        {
          "output_type": "execute_result",
          "data": {
            "text/plain": [
              "LinearRegression()"
            ],
            "text/html": [
              "<style>#sk-container-id-33 {color: black;background-color: white;}#sk-container-id-33 pre{padding: 0;}#sk-container-id-33 div.sk-toggleable {background-color: white;}#sk-container-id-33 label.sk-toggleable__label {cursor: pointer;display: block;width: 100%;margin-bottom: 0;padding: 0.3em;box-sizing: border-box;text-align: center;}#sk-container-id-33 label.sk-toggleable__label-arrow:before {content: \"▸\";float: left;margin-right: 0.25em;color: #696969;}#sk-container-id-33 label.sk-toggleable__label-arrow:hover:before {color: black;}#sk-container-id-33 div.sk-estimator:hover label.sk-toggleable__label-arrow:before {color: black;}#sk-container-id-33 div.sk-toggleable__content {max-height: 0;max-width: 0;overflow: hidden;text-align: left;background-color: #f0f8ff;}#sk-container-id-33 div.sk-toggleable__content pre {margin: 0.2em;color: black;border-radius: 0.25em;background-color: #f0f8ff;}#sk-container-id-33 input.sk-toggleable__control:checked~div.sk-toggleable__content {max-height: 200px;max-width: 100%;overflow: auto;}#sk-container-id-33 input.sk-toggleable__control:checked~label.sk-toggleable__label-arrow:before {content: \"▾\";}#sk-container-id-33 div.sk-estimator input.sk-toggleable__control:checked~label.sk-toggleable__label {background-color: #d4ebff;}#sk-container-id-33 div.sk-label input.sk-toggleable__control:checked~label.sk-toggleable__label {background-color: #d4ebff;}#sk-container-id-33 input.sk-hidden--visually {border: 0;clip: rect(1px 1px 1px 1px);clip: rect(1px, 1px, 1px, 1px);height: 1px;margin: -1px;overflow: hidden;padding: 0;position: absolute;width: 1px;}#sk-container-id-33 div.sk-estimator {font-family: monospace;background-color: #f0f8ff;border: 1px dotted black;border-radius: 0.25em;box-sizing: border-box;margin-bottom: 0.5em;}#sk-container-id-33 div.sk-estimator:hover {background-color: #d4ebff;}#sk-container-id-33 div.sk-parallel-item::after {content: \"\";width: 100%;border-bottom: 1px solid gray;flex-grow: 1;}#sk-container-id-33 div.sk-label:hover label.sk-toggleable__label {background-color: #d4ebff;}#sk-container-id-33 div.sk-serial::before {content: \"\";position: absolute;border-left: 1px solid gray;box-sizing: border-box;top: 0;bottom: 0;left: 50%;z-index: 0;}#sk-container-id-33 div.sk-serial {display: flex;flex-direction: column;align-items: center;background-color: white;padding-right: 0.2em;padding-left: 0.2em;position: relative;}#sk-container-id-33 div.sk-item {position: relative;z-index: 1;}#sk-container-id-33 div.sk-parallel {display: flex;align-items: stretch;justify-content: center;background-color: white;position: relative;}#sk-container-id-33 div.sk-item::before, #sk-container-id-33 div.sk-parallel-item::before {content: \"\";position: absolute;border-left: 1px solid gray;box-sizing: border-box;top: 0;bottom: 0;left: 50%;z-index: -1;}#sk-container-id-33 div.sk-parallel-item {display: flex;flex-direction: column;z-index: 1;position: relative;background-color: white;}#sk-container-id-33 div.sk-parallel-item:first-child::after {align-self: flex-end;width: 50%;}#sk-container-id-33 div.sk-parallel-item:last-child::after {align-self: flex-start;width: 50%;}#sk-container-id-33 div.sk-parallel-item:only-child::after {width: 0;}#sk-container-id-33 div.sk-dashed-wrapped {border: 1px dashed gray;margin: 0 0.4em 0.5em 0.4em;box-sizing: border-box;padding-bottom: 0.4em;background-color: white;}#sk-container-id-33 div.sk-label label {font-family: monospace;font-weight: bold;display: inline-block;line-height: 1.2em;}#sk-container-id-33 div.sk-label-container {text-align: center;}#sk-container-id-33 div.sk-container {/* jupyter's `normalize.less` sets `[hidden] { display: none; }` but bootstrap.min.css set `[hidden] { display: none !important; }` so we also need the `!important` here to be able to override the default hidden behavior on the sphinx rendered scikit-learn.org. See: https://github.com/scikit-learn/scikit-learn/issues/21755 */display: inline-block !important;position: relative;}#sk-container-id-33 div.sk-text-repr-fallback {display: none;}</style><div id=\"sk-container-id-33\" class=\"sk-top-container\"><div class=\"sk-text-repr-fallback\"><pre>LinearRegression()</pre><b>In a Jupyter environment, please rerun this cell to show the HTML representation or trust the notebook. <br />On GitHub, the HTML representation is unable to render, please try loading this page with nbviewer.org.</b></div><div class=\"sk-container\" hidden><div class=\"sk-item\"><div class=\"sk-estimator sk-toggleable\"><input class=\"sk-toggleable__control sk-hidden--visually\" id=\"sk-estimator-id-113\" type=\"checkbox\" checked><label for=\"sk-estimator-id-113\" class=\"sk-toggleable__label sk-toggleable__label-arrow\">LinearRegression</label><div class=\"sk-toggleable__content\"><pre>LinearRegression()</pre></div></div></div></div></div>"
            ]
          },
          "metadata": {},
          "execution_count": 240
        }
      ]
    },
    {
      "cell_type": "markdown",
      "source": [
        "Evaluar el rendimiento del modelo"
      ],
      "metadata": {
        "id": "FeIFXaRkBGwD"
      }
    },
    {
      "cell_type": "code",
      "source": [
        "# Obtener los datos de R^2 después de ajustar nuestro modelo\n",
        "train_score = reg.score(X_train_processed, y_train)\n",
        "print(train_score)"
      ],
      "metadata": {
        "colab": {
          "base_uri": "https://localhost:8080/"
        },
        "id": "UZreBg1DBMZI",
        "outputId": "a1b6b720-0d42-45d5-c0f3-4f3ea0269808"
      },
      "execution_count": 241,
      "outputs": [
        {
          "output_type": "stream",
          "name": "stdout",
          "text": [
            "0.4906349983620336\n"
          ]
        }
      ]
    },
    {
      "cell_type": "code",
      "source": [
        "test_score = reg.score(X_test_processed, y_test)\n",
        "print(test_score)"
      ],
      "metadata": {
        "colab": {
          "base_uri": "https://localhost:8080/"
        },
        "id": "nc5xQJ6vBTtj",
        "outputId": "18eec69c-c671-463a-d52c-057182be5d5f"
      },
      "execution_count": 242,
      "outputs": [
        {
          "output_type": "stream",
          "name": "stdout",
          "text": [
            "-4.740088165012153e+19\n"
          ]
        }
      ]
    },
    {
      "cell_type": "code",
      "source": [
        "# Obtener las predicciones del conjunto de entrenamiento\n",
        "train_preds = reg.predict(X_train_processed)\n",
        "# Obtener las predicciones del conjunto de prueba\n",
        "test_preds = reg.predict(X_test_processed)"
      ],
      "metadata": {
        "id": "Lje2Z3QjBMEZ"
      },
      "execution_count": 243,
      "outputs": []
    },
    {
      "cell_type": "markdown",
      "source": [
        "El modelo de regresión lineal no es apropiado para este caso, es algo que ya se evidenciaba desde el momento en que se realizó el mapa de correlación."
      ],
      "metadata": {
        "id": "0fRzvXgJihBB"
      }
    },
    {
      "cell_type": "markdown",
      "source": [
        "**Modelo de árbol de regresión para la predicción de salario**"
      ],
      "metadata": {
        "id": "RiEwmFbjFePB"
      }
    },
    {
      "cell_type": "code",
      "source": [
        "# Importar librerias\n",
        "import matplotlib.pyplot as plt\n",
        "import pandas as pd\n",
        "from sklearn.model_selection import train_test_split\n",
        "from sklearn.tree import DecisionTreeRegressor\n",
        "from sklearn.tree import DecisionTreeClassifier"
      ],
      "metadata": {
        "id": "aICRwWAJ-Lhy"
      },
      "execution_count": 244,
      "outputs": []
    },
    {
      "cell_type": "code",
      "source": [
        "# Hacer una instancia del modelo\n",
        "# Al dejar los paréntesis vacíos, estamos eligiendo utilizar todos los parámetros por defecto\n",
        "dec_tree = DecisionTreeRegressor(random_state = 42)"
      ],
      "metadata": {
        "id": "UNPT8fHVGQtR"
      },
      "execution_count": 245,
      "outputs": []
    },
    {
      "cell_type": "code",
      "source": [
        "# Ajustar el modelo usando los datos de entrenamiento\n",
        "dec_tree.fit(X_train_processed, y_train)"
      ],
      "metadata": {
        "colab": {
          "base_uri": "https://localhost:8080/",
          "height": 75
        },
        "id": "WVOSDnRZGQbQ",
        "outputId": "9e7f172e-f722-4a32-8b6a-61c33a0a6e84"
      },
      "execution_count": 246,
      "outputs": [
        {
          "output_type": "execute_result",
          "data": {
            "text/plain": [
              "DecisionTreeRegressor(random_state=42)"
            ],
            "text/html": [
              "<style>#sk-container-id-34 {color: black;background-color: white;}#sk-container-id-34 pre{padding: 0;}#sk-container-id-34 div.sk-toggleable {background-color: white;}#sk-container-id-34 label.sk-toggleable__label {cursor: pointer;display: block;width: 100%;margin-bottom: 0;padding: 0.3em;box-sizing: border-box;text-align: center;}#sk-container-id-34 label.sk-toggleable__label-arrow:before {content: \"▸\";float: left;margin-right: 0.25em;color: #696969;}#sk-container-id-34 label.sk-toggleable__label-arrow:hover:before {color: black;}#sk-container-id-34 div.sk-estimator:hover label.sk-toggleable__label-arrow:before {color: black;}#sk-container-id-34 div.sk-toggleable__content {max-height: 0;max-width: 0;overflow: hidden;text-align: left;background-color: #f0f8ff;}#sk-container-id-34 div.sk-toggleable__content pre {margin: 0.2em;color: black;border-radius: 0.25em;background-color: #f0f8ff;}#sk-container-id-34 input.sk-toggleable__control:checked~div.sk-toggleable__content {max-height: 200px;max-width: 100%;overflow: auto;}#sk-container-id-34 input.sk-toggleable__control:checked~label.sk-toggleable__label-arrow:before {content: \"▾\";}#sk-container-id-34 div.sk-estimator input.sk-toggleable__control:checked~label.sk-toggleable__label {background-color: #d4ebff;}#sk-container-id-34 div.sk-label input.sk-toggleable__control:checked~label.sk-toggleable__label {background-color: #d4ebff;}#sk-container-id-34 input.sk-hidden--visually {border: 0;clip: rect(1px 1px 1px 1px);clip: rect(1px, 1px, 1px, 1px);height: 1px;margin: -1px;overflow: hidden;padding: 0;position: absolute;width: 1px;}#sk-container-id-34 div.sk-estimator {font-family: monospace;background-color: #f0f8ff;border: 1px dotted black;border-radius: 0.25em;box-sizing: border-box;margin-bottom: 0.5em;}#sk-container-id-34 div.sk-estimator:hover {background-color: #d4ebff;}#sk-container-id-34 div.sk-parallel-item::after {content: \"\";width: 100%;border-bottom: 1px solid gray;flex-grow: 1;}#sk-container-id-34 div.sk-label:hover label.sk-toggleable__label {background-color: #d4ebff;}#sk-container-id-34 div.sk-serial::before {content: \"\";position: absolute;border-left: 1px solid gray;box-sizing: border-box;top: 0;bottom: 0;left: 50%;z-index: 0;}#sk-container-id-34 div.sk-serial {display: flex;flex-direction: column;align-items: center;background-color: white;padding-right: 0.2em;padding-left: 0.2em;position: relative;}#sk-container-id-34 div.sk-item {position: relative;z-index: 1;}#sk-container-id-34 div.sk-parallel {display: flex;align-items: stretch;justify-content: center;background-color: white;position: relative;}#sk-container-id-34 div.sk-item::before, #sk-container-id-34 div.sk-parallel-item::before {content: \"\";position: absolute;border-left: 1px solid gray;box-sizing: border-box;top: 0;bottom: 0;left: 50%;z-index: -1;}#sk-container-id-34 div.sk-parallel-item {display: flex;flex-direction: column;z-index: 1;position: relative;background-color: white;}#sk-container-id-34 div.sk-parallel-item:first-child::after {align-self: flex-end;width: 50%;}#sk-container-id-34 div.sk-parallel-item:last-child::after {align-self: flex-start;width: 50%;}#sk-container-id-34 div.sk-parallel-item:only-child::after {width: 0;}#sk-container-id-34 div.sk-dashed-wrapped {border: 1px dashed gray;margin: 0 0.4em 0.5em 0.4em;box-sizing: border-box;padding-bottom: 0.4em;background-color: white;}#sk-container-id-34 div.sk-label label {font-family: monospace;font-weight: bold;display: inline-block;line-height: 1.2em;}#sk-container-id-34 div.sk-label-container {text-align: center;}#sk-container-id-34 div.sk-container {/* jupyter's `normalize.less` sets `[hidden] { display: none; }` but bootstrap.min.css set `[hidden] { display: none !important; }` so we also need the `!important` here to be able to override the default hidden behavior on the sphinx rendered scikit-learn.org. See: https://github.com/scikit-learn/scikit-learn/issues/21755 */display: inline-block !important;position: relative;}#sk-container-id-34 div.sk-text-repr-fallback {display: none;}</style><div id=\"sk-container-id-34\" class=\"sk-top-container\"><div class=\"sk-text-repr-fallback\"><pre>DecisionTreeRegressor(random_state=42)</pre><b>In a Jupyter environment, please rerun this cell to show the HTML representation or trust the notebook. <br />On GitHub, the HTML representation is unable to render, please try loading this page with nbviewer.org.</b></div><div class=\"sk-container\" hidden><div class=\"sk-item\"><div class=\"sk-estimator sk-toggleable\"><input class=\"sk-toggleable__control sk-hidden--visually\" id=\"sk-estimator-id-114\" type=\"checkbox\" checked><label for=\"sk-estimator-id-114\" class=\"sk-toggleable__label sk-toggleable__label-arrow\">DecisionTreeRegressor</label><div class=\"sk-toggleable__content\"><pre>DecisionTreeRegressor(random_state=42)</pre></div></div></div></div></div>"
            ]
          },
          "metadata": {},
          "execution_count": 246
        }
      ]
    },
    {
      "cell_type": "code",
      "source": [
        "# Predecir los valores objetivos para el conjunto de entrenamiento y de prueba\n",
        "train_preds = dec_tree.predict(X_train_processed)\n",
        "test_preds = dec_tree.predict(X_test_processed)"
      ],
      "metadata": {
        "id": "8jUT8SvBGQWh"
      },
      "execution_count": 247,
      "outputs": []
    },
    {
      "cell_type": "code",
      "source": [
        "# Evaluar el modelo\n",
        "train_score = dec_tree.score(X_train_processed, y_train)\n",
        "test_score = dec_tree.score(X_test_processed, y_test)\n",
        "print(train_score)\n",
        "print(test_score)"
      ],
      "metadata": {
        "colab": {
          "base_uri": "https://localhost:8080/"
        },
        "id": "COxyXDeqFd0y",
        "outputId": "fcbab350-a052-4993-8dd3-3d6f3266981a"
      },
      "execution_count": 248,
      "outputs": [
        {
          "output_type": "stream",
          "name": "stdout",
          "text": [
            "0.5809302970546355\n",
            "0.3237278745984721\n"
          ]
        }
      ]
    },
    {
      "cell_type": "code",
      "source": [
        "import numpy as np\n",
        "from sklearn.metrics import r2_score\n",
        "from sklearn.metrics import mean_absolute_error\n",
        "from sklearn.metrics import mean_squared_error"
      ],
      "metadata": {
        "id": "Bb1CxpZPCSTM"
      },
      "execution_count": 249,
      "outputs": []
    },
    {
      "cell_type": "code",
      "source": [
        "# Coeficiente de determinación (r^2)\n",
        "r2_train = r2_score(y_train, train_preds)\n",
        "r2_test = r2_score(y_test, test_preds)"
      ],
      "metadata": {
        "id": "DLlavet5Cz3V"
      },
      "execution_count": 250,
      "outputs": []
    },
    {
      "cell_type": "code",
      "source": [
        "r2_train"
      ],
      "metadata": {
        "colab": {
          "base_uri": "https://localhost:8080/"
        },
        "id": "NwgWJZctDBAZ",
        "outputId": "04d08cf1-fcb3-4ddd-d55b-c44a259b9fb3"
      },
      "execution_count": 251,
      "outputs": [
        {
          "output_type": "execute_result",
          "data": {
            "text/plain": [
              "0.5809302970546355"
            ]
          },
          "metadata": {},
          "execution_count": 251
        }
      ]
    },
    {
      "cell_type": "code",
      "source": [
        "r2_test"
      ],
      "metadata": {
        "colab": {
          "base_uri": "https://localhost:8080/"
        },
        "id": "mR6_MKu5DE7E",
        "outputId": "fd36ebdb-1271-4d56-f86e-2aa382ca52a1"
      },
      "execution_count": 252,
      "outputs": [
        {
          "output_type": "execute_result",
          "data": {
            "text/plain": [
              "0.3237278745984721"
            ]
          },
          "metadata": {},
          "execution_count": 252
        }
      ]
    },
    {
      "cell_type": "code",
      "source": [
        "# Raíz del error cuadrático medio (RECM)\n",
        "rmse_train = np.sqrt(mean_squared_error(y_train, train_preds))\n",
        "rmse_test = np.sqrt(mean_squared_error(y_test, test_preds))"
      ],
      "metadata": {
        "id": "G6lS_Q7XHRXr"
      },
      "execution_count": 253,
      "outputs": []
    },
    {
      "cell_type": "code",
      "source": [
        "rmse_train"
      ],
      "metadata": {
        "colab": {
          "base_uri": "https://localhost:8080/"
        },
        "outputId": "9e5f61bd-6c14-4e91-db56-bcf53dd004a9",
        "id": "xUs-oZQYHRXs"
      },
      "execution_count": 254,
      "outputs": [
        {
          "output_type": "execute_result",
          "data": {
            "text/plain": [
              "40592.71329536504"
            ]
          },
          "metadata": {},
          "execution_count": 254
        }
      ]
    },
    {
      "cell_type": "code",
      "source": [
        "rmse_test"
      ],
      "metadata": {
        "colab": {
          "base_uri": "https://localhost:8080/"
        },
        "outputId": "146f4a1c-3a1b-40b7-f8e2-e926578e56d1",
        "id": "cXkUuA29HRXs"
      },
      "execution_count": 255,
      "outputs": [
        {
          "output_type": "execute_result",
          "data": {
            "text/plain": [
              "52675.43198562461"
            ]
          },
          "metadata": {},
          "execution_count": 255
        }
      ]
    },
    {
      "cell_type": "markdown",
      "source": [
        "Modelo de bosques aleatorios para la predicción del salario"
      ],
      "metadata": {
        "id": "6x4U7wXmtD2z"
      }
    },
    {
      "cell_type": "code",
      "source": [
        "# Importar un regresor de bosque aleatorio\n",
        "from sklearn.ensemble import RandomForestRegressor"
      ],
      "metadata": {
        "id": "gNe513nvtLNl"
      },
      "execution_count": 256,
      "outputs": []
    },
    {
      "cell_type": "code",
      "source": [
        "# Hacer una instancia del modelo\n",
        "rf = RandomForestRegressor(random_state = 42)"
      ],
      "metadata": {
        "id": "lIi-k44owZRG"
      },
      "execution_count": 257,
      "outputs": []
    },
    {
      "cell_type": "code",
      "source": [
        "# Observar algunos hiperparametros\n",
        "rf.get_params()"
      ],
      "metadata": {
        "colab": {
          "base_uri": "https://localhost:8080/"
        },
        "id": "CJkSnAGCwirV",
        "outputId": "8ac269fd-3cfb-46c6-9e22-195455e1d02b"
      },
      "execution_count": 258,
      "outputs": [
        {
          "output_type": "execute_result",
          "data": {
            "text/plain": [
              "{'bootstrap': True,\n",
              " 'ccp_alpha': 0.0,\n",
              " 'criterion': 'squared_error',\n",
              " 'max_depth': None,\n",
              " 'max_features': 1.0,\n",
              " 'max_leaf_nodes': None,\n",
              " 'max_samples': None,\n",
              " 'min_impurity_decrease': 0.0,\n",
              " 'min_samples_leaf': 1,\n",
              " 'min_samples_split': 2,\n",
              " 'min_weight_fraction_leaf': 0.0,\n",
              " 'n_estimators': 100,\n",
              " 'n_jobs': None,\n",
              " 'oob_score': False,\n",
              " 'random_state': 42,\n",
              " 'verbose': 0,\n",
              " 'warm_start': False}"
            ]
          },
          "metadata": {},
          "execution_count": 258
        }
      ]
    },
    {
      "cell_type": "code",
      "source": [
        "# Entrenar modelo\n",
        "rf.fit(X_train_processed, y_train)"
      ],
      "metadata": {
        "colab": {
          "base_uri": "https://localhost:8080/",
          "height": 75
        },
        "id": "MNGThixAwqHd",
        "outputId": "5ae4b956-1485-4375-d8fc-49865752ff21"
      },
      "execution_count": 259,
      "outputs": [
        {
          "output_type": "execute_result",
          "data": {
            "text/plain": [
              "RandomForestRegressor(random_state=42)"
            ],
            "text/html": [
              "<style>#sk-container-id-35 {color: black;background-color: white;}#sk-container-id-35 pre{padding: 0;}#sk-container-id-35 div.sk-toggleable {background-color: white;}#sk-container-id-35 label.sk-toggleable__label {cursor: pointer;display: block;width: 100%;margin-bottom: 0;padding: 0.3em;box-sizing: border-box;text-align: center;}#sk-container-id-35 label.sk-toggleable__label-arrow:before {content: \"▸\";float: left;margin-right: 0.25em;color: #696969;}#sk-container-id-35 label.sk-toggleable__label-arrow:hover:before {color: black;}#sk-container-id-35 div.sk-estimator:hover label.sk-toggleable__label-arrow:before {color: black;}#sk-container-id-35 div.sk-toggleable__content {max-height: 0;max-width: 0;overflow: hidden;text-align: left;background-color: #f0f8ff;}#sk-container-id-35 div.sk-toggleable__content pre {margin: 0.2em;color: black;border-radius: 0.25em;background-color: #f0f8ff;}#sk-container-id-35 input.sk-toggleable__control:checked~div.sk-toggleable__content {max-height: 200px;max-width: 100%;overflow: auto;}#sk-container-id-35 input.sk-toggleable__control:checked~label.sk-toggleable__label-arrow:before {content: \"▾\";}#sk-container-id-35 div.sk-estimator input.sk-toggleable__control:checked~label.sk-toggleable__label {background-color: #d4ebff;}#sk-container-id-35 div.sk-label input.sk-toggleable__control:checked~label.sk-toggleable__label {background-color: #d4ebff;}#sk-container-id-35 input.sk-hidden--visually {border: 0;clip: rect(1px 1px 1px 1px);clip: rect(1px, 1px, 1px, 1px);height: 1px;margin: -1px;overflow: hidden;padding: 0;position: absolute;width: 1px;}#sk-container-id-35 div.sk-estimator {font-family: monospace;background-color: #f0f8ff;border: 1px dotted black;border-radius: 0.25em;box-sizing: border-box;margin-bottom: 0.5em;}#sk-container-id-35 div.sk-estimator:hover {background-color: #d4ebff;}#sk-container-id-35 div.sk-parallel-item::after {content: \"\";width: 100%;border-bottom: 1px solid gray;flex-grow: 1;}#sk-container-id-35 div.sk-label:hover label.sk-toggleable__label {background-color: #d4ebff;}#sk-container-id-35 div.sk-serial::before {content: \"\";position: absolute;border-left: 1px solid gray;box-sizing: border-box;top: 0;bottom: 0;left: 50%;z-index: 0;}#sk-container-id-35 div.sk-serial {display: flex;flex-direction: column;align-items: center;background-color: white;padding-right: 0.2em;padding-left: 0.2em;position: relative;}#sk-container-id-35 div.sk-item {position: relative;z-index: 1;}#sk-container-id-35 div.sk-parallel {display: flex;align-items: stretch;justify-content: center;background-color: white;position: relative;}#sk-container-id-35 div.sk-item::before, #sk-container-id-35 div.sk-parallel-item::before {content: \"\";position: absolute;border-left: 1px solid gray;box-sizing: border-box;top: 0;bottom: 0;left: 50%;z-index: -1;}#sk-container-id-35 div.sk-parallel-item {display: flex;flex-direction: column;z-index: 1;position: relative;background-color: white;}#sk-container-id-35 div.sk-parallel-item:first-child::after {align-self: flex-end;width: 50%;}#sk-container-id-35 div.sk-parallel-item:last-child::after {align-self: flex-start;width: 50%;}#sk-container-id-35 div.sk-parallel-item:only-child::after {width: 0;}#sk-container-id-35 div.sk-dashed-wrapped {border: 1px dashed gray;margin: 0 0.4em 0.5em 0.4em;box-sizing: border-box;padding-bottom: 0.4em;background-color: white;}#sk-container-id-35 div.sk-label label {font-family: monospace;font-weight: bold;display: inline-block;line-height: 1.2em;}#sk-container-id-35 div.sk-label-container {text-align: center;}#sk-container-id-35 div.sk-container {/* jupyter's `normalize.less` sets `[hidden] { display: none; }` but bootstrap.min.css set `[hidden] { display: none !important; }` so we also need the `!important` here to be able to override the default hidden behavior on the sphinx rendered scikit-learn.org. See: https://github.com/scikit-learn/scikit-learn/issues/21755 */display: inline-block !important;position: relative;}#sk-container-id-35 div.sk-text-repr-fallback {display: none;}</style><div id=\"sk-container-id-35\" class=\"sk-top-container\"><div class=\"sk-text-repr-fallback\"><pre>RandomForestRegressor(random_state=42)</pre><b>In a Jupyter environment, please rerun this cell to show the HTML representation or trust the notebook. <br />On GitHub, the HTML representation is unable to render, please try loading this page with nbviewer.org.</b></div><div class=\"sk-container\" hidden><div class=\"sk-item\"><div class=\"sk-estimator sk-toggleable\"><input class=\"sk-toggleable__control sk-hidden--visually\" id=\"sk-estimator-id-115\" type=\"checkbox\" checked><label for=\"sk-estimator-id-115\" class=\"sk-toggleable__label sk-toggleable__label-arrow\">RandomForestRegressor</label><div class=\"sk-toggleable__content\"><pre>RandomForestRegressor(random_state=42)</pre></div></div></div></div></div>"
            ]
          },
          "metadata": {},
          "execution_count": 259
        }
      ]
    },
    {
      "cell_type": "code",
      "source": [
        "# Predecir valores para \"y\"\n",
        "rf.predict(X_test_processed)"
      ],
      "metadata": {
        "colab": {
          "base_uri": "https://localhost:8080/"
        },
        "id": "z7PrESsXwyil",
        "outputId": "db6f39ef-e6f8-4f19-b6f5-a237e0230606"
      },
      "execution_count": 260,
      "outputs": [
        {
          "output_type": "execute_result",
          "data": {
            "text/plain": [
              "array([206520.60166667, 118647.6130864 , 167190.51141052, 203256.99923898,\n",
              "        91587.905     ,  32347.78      , 164680.22074033,  57928.00017931,\n",
              "        14763.495     , 172888.22171995,  52914.99583333, 157555.65966806,\n",
              "       154792.21299158,  16210.717     , 128468.71926346, 127119.14885714,\n",
              "       121623.09100591, 167190.51141052, 157555.65966806, 164680.22074033,\n",
              "       131566.08604845, 118647.6130864 , 157555.65966806, 126611.06866667,\n",
              "       164680.22074033, 122609.3448001 , 191766.39322072, 118647.6130864 ,\n",
              "        94906.389     , 137375.04226173, 172794.39222549, 118647.6130864 ,\n",
              "       156685.87222222, 112569.75449856,  56700.40001587, 148509.00724276,\n",
              "        16369.44      ,  32911.93      , 128468.71926346, 154792.21299158,\n",
              "       171791.66583861,  27582.05933333, 134810.44066437, 129028.24922222,\n",
              "       163497.04565312, 128468.71926346, 138085.49712698, 154792.21299158,\n",
              "        95413.02414566, 132481.115     ,  16587.30125   ,  91347.60633836,\n",
              "       164680.22074033, 118647.6130864 , 164680.22074033, 163497.04565312,\n",
              "       116987.26030124, 164680.22074033, 167190.51141052, 118554.23966667,\n",
              "       154792.21299158,  95413.02414566,  44936.38410206, 164680.22074033,\n",
              "       154120.        ,  43705.19375   , 131566.08604845, 126855.10265215,\n",
              "       129796.48761897, 164680.22074033, 152454.70764844, 116987.26030124,\n",
              "       191894.02846764, 131566.08604845, 151037.66666667, 161248.09549451,\n",
              "       164680.22074033, 121036.76551227, 185393.73254912, 105114.88700018,\n",
              "        75300.03865765, 164680.22074033, 154792.21299158, 189919.8422308 ,\n",
              "        56444.3       ,  60726.0665873 , 153876.37568456, 154792.21299158,\n",
              "        76748.24588889, 123923.41269562, 103887.83243781, 168341.23586739,\n",
              "       167190.51141052,  95413.02414566, 153876.37568456, 118647.6130864 ,\n",
              "       164680.22074033,  72837.37902778, 189919.8422308 , 167190.51141052,\n",
              "       167190.51141052, 131554.60460317, 167190.51141052, 154792.21299158,\n",
              "        21389.59      , 193303.50913855, 146309.77666667, 152230.98085111,\n",
              "       121623.09100591, 164680.22074033, 119056.17383117, 118647.6130864 ,\n",
              "       128468.71926346, 154792.21299158, 128468.71926346,  95203.01361835,\n",
              "       131566.08604845,  64391.898     , 157555.65966806, 167190.51141052,\n",
              "        41601.30072222, 157555.65966806, 116987.26030124, 128468.71926346,\n",
              "       128468.71926346, 154792.21299158, 177608.26587302, 172888.22171995,\n",
              "        63965.59740476, 172888.22171995, 167190.51141052, 222807.28174603,\n",
              "        51932.19357143, 170445.65464507, 207610.17857143, 167190.51141052,\n",
              "        67147.73211142, 154792.21299158, 154792.21299158, 153876.37568456,\n",
              "       118647.6130864 , 252726.58386743, 182698.52031345, 164680.22074033,\n",
              "       128468.71926346, 154792.21299158, 154792.21299158, 167190.51141052,\n",
              "       128468.71926346, 158656.10732673, 116987.26030124, 170790.76190476,\n",
              "       102735.07083466, 118647.6130864 , 157555.65966806, 154792.21299158,\n",
              "       154792.21299158, 178683.51803752, 157555.65966806, 172888.22171995,\n",
              "        95413.02414566, 157555.65966806,  41601.30072222,  15634.91      ,\n",
              "        59608.85905761, 252726.58386743, 164680.22074033, 157555.65966806,\n",
              "        27870.66      , 211885.71283747, 157555.65966806, 187376.99124436,\n",
              "        64793.80876891, 157555.65966806, 112569.75449856, 116987.26030124,\n",
              "       170638.77106652,  37925.653     , 172888.22171995, 164680.22074033,\n",
              "        98605.34042857,  19360.2645    , 147973.17044051,  57413.24566955,\n",
              "       212727.51674628, 164680.22074033, 211885.71283747, 164680.22074033,\n",
              "       157555.65966806, 128468.71926346, 172888.22171995, 122609.3448001 ,\n",
              "       170905.7696176 , 208191.63636271, 154792.21299158, 154792.21299158,\n",
              "       165930.52479502, 172888.22171995, 116987.26030124,  60476.55666667,\n",
              "       164680.22074033, 167190.51141052,  80904.76785714, 178555.34726958,\n",
              "       154792.21299158, 235638.37739156, 164680.22074033, 154792.21299158,\n",
              "       129796.48761897, 156685.87222222, 122609.3448001 ,  79824.95984147,\n",
              "       129796.48761897, 116987.26030124, 128468.71926346, 122609.3448001 ,\n",
              "       154792.21299158, 154792.21299158,  27115.195     , 164680.22074033,\n",
              "       128468.71926346,  79829.84788506, 189919.8422308 , 164680.22074033,\n",
              "        65392.35166667,  37529.54714286, 108359.93275   , 116987.26030124,\n",
              "       128468.71926346, 118647.6130864 , 146639.84771163, 153876.37568456,\n",
              "       172888.22171995, 116987.26030124, 154792.21299158, 144470.26      ,\n",
              "       154792.21299158, 164680.22074033,  36635.84      , 154792.21299158,\n",
              "       128468.71926346, 157555.65966806, 118647.6130864 , 153876.37568456,\n",
              "       116987.26030124, 167190.51141052, 128468.71926346, 172794.39222549,\n",
              "       128468.71926346, 164680.22074033, 137635.75840826, 154792.21299158,\n",
              "       128468.71926346, 157555.65966806, 145436.57558333, 167190.51141052,\n",
              "       163497.04565312, 167190.51141052,  41350.74348098, 167190.51141052,\n",
              "       154792.21299158, 187533.72426185, 172794.39222549, 157555.65966806,\n",
              "       164680.22074033, 164680.22074033, 204510.72781385, 118647.6130864 ,\n",
              "        79829.84788506, 157555.65966806,  19182.54      , 164680.22074033,\n",
              "       164680.22074033, 154792.21299158, 157555.65966806, 167190.51141052,\n",
              "        59835.60687302, 172888.22171995, 118647.6130864 , 126611.06866667,\n",
              "       128468.71926346, 116987.26030124, 164680.22074033,  44936.38410206,\n",
              "       154792.21299158, 201638.02645763, 115149.6705    , 172888.22171995,\n",
              "       113409.80916667, 189919.8422308 , 165930.52479502, 167190.51141052,\n",
              "       167190.51141052, 118647.6130864 , 163497.04565312,  85565.22653333,\n",
              "        83307.74733333,  73978.53233333, 172888.22171995, 154792.21299158,\n",
              "       118647.6130864 , 128468.71926346, 167190.51141052, 109011.03371971,\n",
              "       164680.22074033, 131554.60460317, 167190.51141052, 167190.51141052,\n",
              "       157555.65966806, 147855.46277778, 164680.22074033, 157555.65966806,\n",
              "       121623.09100591,  78974.40781856, 172794.39222549, 158415.855635  ,\n",
              "       154792.21299158, 121036.76551227, 214761.10744589, 154792.21299158,\n",
              "       157555.65966806, 128468.71926346, 157555.65966806, 157555.65966806,\n",
              "       177608.26587302,  83358.56835714, 204510.72781385, 164680.22074033,\n",
              "        85827.01952381, 154792.21299158, 154792.21299158, 153876.37568456,\n",
              "       165930.52479502, 131566.08604845, 129796.48761897, 172888.22171995,\n",
              "        41350.74348098, 187533.72426185, 165930.52479502, 127494.7672619 ,\n",
              "        71758.31368254, 148443.97183333, 154792.21299158,  80335.95      ,\n",
              "       103192.12897992,  78974.40781856, 128468.71926346,  35881.16483333,\n",
              "        19069.37133333,  36473.2075    , 131566.08604845, 167190.51141052,\n",
              "        41350.74348098, 172794.39222549, 164680.22074033, 149974.08325008,\n",
              "       154792.21299158, 128468.71926346,  61193.39436905,  79538.03      ,\n",
              "       172559.94623925, 118647.6130864 , 154792.21299158, 126006.09111094,\n",
              "       161248.09549451, 167190.51141052, 167190.51141052,  41350.74348098,\n",
              "       169325.08916667, 155489.61691309, 128468.71926346, 172559.94623925,\n",
              "       172888.22171995, 186759.63766667,  18550.22      , 167190.51141052,\n",
              "       121036.76551227, 146335.62918546, 172888.22171995, 154792.21299158,\n",
              "       164680.22074033,  16644.60775   , 154792.21299158, 154792.21299158,\n",
              "        85693.35793651, 164680.22074033, 128468.71926346, 167190.51141052,\n",
              "       177806.46649674,  75300.03865765, 154792.21299158, 164680.22074033,\n",
              "       172888.22171995, 128468.71926346, 154792.21299158, 154792.21299158,\n",
              "       165930.52479502, 190765.69654337, 154792.21299158, 118647.6130864 ,\n",
              "        33827.195     ,  29165.56      ,  19346.65433333,  44936.38410206,\n",
              "        36385.21      , 153876.37568456, 121623.09100591, 164680.22074033,\n",
              "       116987.26030124, 128468.71926346,  33338.14      , 157555.65966806,\n",
              "       155489.61691309, 189919.8422308 , 252726.58386743, 164680.22074033,\n",
              "       118647.6130864 ,  79440.55952381, 128493.78787879, 154792.21299158,\n",
              "       201638.02645763, 122609.3448001 ,  58564.81933333, 167190.51141052,\n",
              "       172888.22171995,  57413.24566955, 164680.22074033, 164680.22074033,\n",
              "       116987.26030124, 154792.21299158, 154792.21299158, 139123.76333333,\n",
              "       154792.21299158, 128468.71926346, 167190.51141052, 154792.21299158,\n",
              "       154792.21299158, 129796.48761897,  44900.23688889, 172888.22171995,\n",
              "       203256.99923898,  59950.62      , 172888.22171995, 164680.22074033,\n",
              "       157555.65966806,  22203.08      , 164680.22074033, 126172.85714286,\n",
              "       172559.94623925,  95559.7547176 , 177781.68650794, 128468.71926346,\n",
              "        95460.15874498, 118647.6130864 , 164680.22074033, 172888.22171995,\n",
              "       122609.3448001 , 154792.21299158, 167190.51141052,  74367.19811099,\n",
              "        61968.77752103,  75300.03865765, 183008.48422411, 109727.93255514,\n",
              "       154792.21299158, 147855.46277778, 121623.09100591, 128468.71926346,\n",
              "       127091.22236269, 158411.36176491, 172888.22171995,  95600.38475757,\n",
              "        99112.7281746 , 128998.73642857, 157555.65966806, 102695.28190476,\n",
              "       104455.362     , 131566.08604845, 169142.00712898, 172559.94623925,\n",
              "        79849.85755556, 172888.22171995, 118647.6130864 , 204978.61644394,\n",
              "        59608.85905761,  50985.43014863,  72892.9384804 ,  75300.03865765,\n",
              "       154792.21299158, 128468.71926346, 116297.71029402, 203256.99923898,\n",
              "        19346.24041667, 170638.77106652, 172794.39222549, 157555.65966806,\n",
              "        61806.54651645, 128468.71926346, 131566.08604845, 131566.08604845,\n",
              "       172794.39222549, 116987.26030124, 168341.23586739, 131566.08604845,\n",
              "       167190.51141052, 128468.71926346,  98862.57142857, 158411.36176491,\n",
              "       166688.54446678, 164680.22074033, 157555.65966806, 121036.76551227,\n",
              "        18307.236     , 167511.02050722, 118647.6130864 , 202884.52083333,\n",
              "       164680.22074033, 178683.51803752, 154792.21299158, 128468.71926346,\n",
              "       172794.39222549,  55498.27365232,  92592.46371429, 172888.22171995,\n",
              "       122609.3448001 , 129796.48761897, 116987.26030124, 118647.6130864 ,\n",
              "       165930.52479502, 121623.09100591, 116987.26030124, 172794.39222549,\n",
              "        41350.74348098, 127091.22236269, 174818.19303417, 157555.65966806,\n",
              "       126172.85714286, 154792.21299158,  19218.07      , 121623.09100591,\n",
              "       125942.34      , 172794.39222549, 172888.22171995, 103255.30333333,\n",
              "       128468.71926346, 157555.65966806, 154792.21299158, 193303.50913855,\n",
              "       295056.80914438, 189919.8422308 , 164680.22074033, 167190.51141052,\n",
              "       177806.46649674, 170905.7696176 , 157555.65966806, 166304.20804598,\n",
              "        51784.70461905,  76402.36585714, 184602.45170875, 137375.04226173,\n",
              "       147973.17044051, 154792.21299158, 111573.81      , 172888.22171995,\n",
              "       131566.08604845,  37128.07201082, 170905.7696176 , 118647.6130864 ,\n",
              "       118647.6130864 , 128468.71926346, 203256.99923898, 164680.22074033,\n",
              "       154792.21299158, 130782.44047619, 118647.6130864 , 164680.22074033,\n",
              "       164680.22074033, 154792.21299158, 167190.51141052, 208191.63636271,\n",
              "       103887.83243781, 131566.08604845,  75300.03865765, 140794.53349928,\n",
              "       128468.71926346, 153876.37568456, 154792.21299158,  60939.955     ,\n",
              "       164680.22074033, 116987.26030124, 164680.22074033,  41350.74348098,\n",
              "       157555.65966806, 211885.71283747, 116987.26030124, 157555.65966806,\n",
              "       172888.22171995, 186759.63766667, 170905.7696176 , 118647.6130864 ,\n",
              "       164680.22074033,  69981.80468254, 147973.17044051,  61193.39436905,\n",
              "       128468.71926346, 121623.09100591, 129796.48761897, 157555.65966806,\n",
              "       134106.63368755, 168265.66540308, 154792.21299158, 116987.26030124,\n",
              "       126172.85714286, 167190.51141052,  91240.67733333, 167190.51141052,\n",
              "       118647.6130864 ,  46128.661663  , 146309.77666667, 154792.21299158,\n",
              "        28061.606     , 118647.6130864 , 118647.6130864 , 172559.94623925,\n",
              "       164680.22074033, 122609.3448001 , 170638.77106652, 203256.99923898,\n",
              "       154792.21299158,  65216.77      , 154792.21299158, 157555.65966806,\n",
              "       164680.22074033, 172888.22171995, 172888.22171995, 114175.391     ,\n",
              "        95413.02414566, 158411.36176491, 128468.71926346, 167190.51141052,\n",
              "       128468.71926346, 109011.03371971,  72837.37902778, 203256.99923898,\n",
              "        95413.02414566,  89681.94252381, 154792.21299158, 137635.75840826,\n",
              "       189919.8422308 ,  61806.54651645, 160983.62841554, 157555.65966806,\n",
              "        67410.323     , 128468.71926346, 154792.21299158, 168265.66540308,\n",
              "        41350.74348098, 128468.71926346, 167190.51141052, 191080.30637393,\n",
              "        61806.54651645, 153876.37568456,  30198.965     , 131566.08604845,\n",
              "       136634.02202742, 116987.26030124, 165930.52479502, 172888.22171995,\n",
              "        70951.26536386,  80410.83928571, 107540.19014472, 102039.88933333,\n",
              "       131566.08604845,  72940.44950397, 154792.21299158, 153876.37568456,\n",
              "       164680.22074033, 172559.94623925,  81091.84496771,  28339.22      ,\n",
              "       165930.52479502, 191080.30637393, 154792.21299158, 191080.30637393,\n",
              "        71214.8374127 , 214761.10744589,  40011.05333333, 139618.27583333,\n",
              "       164680.22074033, 130782.44047619,  49477.31      , 154792.21299158,\n",
              "       154792.21299158,  95559.7547176 , 167190.51141052, 104940.4025    ,\n",
              "        19898.36488095, 154792.21299158, 121623.09100591, 167190.51141052,\n",
              "       164680.22074033, 129796.48761897, 154792.21299158, 128468.71926346,\n",
              "        72892.9384804 , 116987.26030124,  72892.9384804 , 136634.02202742,\n",
              "       177608.26587302,  75703.98833333, 164680.22074033, 117104.07359307,\n",
              "        72892.9384804 , 116297.71029402, 166304.20804598, 164680.22074033,\n",
              "       123900.        , 137375.04226173, 252726.58386743, 157555.65966806,\n",
              "       167190.51141052, 128468.71926346, 129796.48761897, 116987.26030124,\n",
              "       154792.21299158,  95600.38475757, 130782.44047619, 211885.71283747,\n",
              "        60476.55666667, 172888.22171995, 167190.51141052, 164680.22074033,\n",
              "       177608.26587302, 164680.22074033, 101119.89128571,  62690.29      ,\n",
              "       172794.39222549, 191651.13809524, 211885.71283747, 121623.09100591,\n",
              "       157555.65966806,  42900.61      , 128468.71926346, 157555.65966806,\n",
              "       116987.26030124, 167190.51141052, 128468.71926346, 167190.51141052,\n",
              "        72837.37902778,  44936.38410206,  44936.38410206,  57413.24566955,\n",
              "       207610.17857143, 128468.71926346, 157555.65966806, 157555.65966806,\n",
              "       157555.65966806, 167190.51141052,  75401.35357301, 122609.3448001 ,\n",
              "       164680.22074033, 128803.99231271, 137375.04226173, 212727.51674628,\n",
              "        95413.02414566, 172888.22171995, 116987.26030124, 128803.99231271,\n",
              "        61806.54651645, 122609.3448001 , 128468.71926346, 167190.51141052,\n",
              "       171791.66583861, 164680.22074033, 128468.71926346, 170638.77106652,\n",
              "        94429.88965795,  60476.55666667,  63965.59740476, 165930.52479502,\n",
              "       154792.21299158,  57146.6675    ,  51559.94188889,  52580.79      ,\n",
              "        81208.04533333, 154792.21299158, 147973.17044051, 128468.71926346,\n",
              "        77925.61124956, 128468.71926346, 182698.52031345, 165038.65997619,\n",
              "       191894.02846764,  31794.06714286, 172888.22171995,  71758.31368254,\n",
              "       109011.03371971, 158656.10732673, 154792.21299158, 167190.51141052,\n",
              "       118647.6130864 , 128468.71926346, 153876.37568456, 152454.70764844,\n",
              "       124941.97562602, 167190.51141052, 157555.65966806, 164680.22074033,\n",
              "       154792.21299158,  23107.27      , 181592.97857143, 118647.6130864 ,\n",
              "       157555.65966806,  75300.03865765, 172888.22171995, 163497.04565312,\n",
              "       126172.85714286, 164680.22074033, 154792.21299158, 131566.08604845,\n",
              "        88180.13555556, 121623.09100591, 118647.6130864 , 137375.04226173,\n",
              "       128468.71926346,  72837.37902778, 172888.22171995, 166688.54446678,\n",
              "       116987.26030124,  65274.01988095, 193303.50913855, 154792.21299158,\n",
              "        79824.95984147, 172888.22171995, 191080.30637393, 170905.7696176 ,\n",
              "       182698.52031345, 167190.51141052, 157555.65966806,  87538.40285714,\n",
              "       131554.60460317, 189919.8422308 , 154792.21299158, 116987.26030124,\n",
              "       103887.83243781,  67703.82421429,  71214.8374127 ,  41350.74348098,\n",
              "       128468.71926346, 118647.6130864 , 157555.65966806, 157555.65966806,\n",
              "       172888.22171995,  25472.82      , 131566.08604845,  96645.29717749,\n",
              "       152454.70764844, 164680.22074033, 164680.22074033, 157555.65966806,\n",
              "        36765.24714286, 116987.26030124, 128468.71926346, 154792.21299158,\n",
              "       158411.36176491, 167190.51141052,  42556.7       , 206520.60166667,\n",
              "       202275.78419298, 164680.22074033, 154792.21299158, 131562.83333333,\n",
              "       158416.22778968,  72892.9384804 ,  52618.435     ,  80458.62      ,\n",
              "       157555.65966806,  18247.255     , 113695.15079365, 157555.65966806,\n",
              "        57170.34714286,  59608.85905761, 154792.21299158, 118647.6130864 ,\n",
              "       154792.21299158, 165930.52479502, 118647.6130864 ,  27720.27333333,\n",
              "       172559.94623925, 167190.51141052, 127156.72772135, 157555.65966806,\n",
              "        68255.453     , 154792.21299158, 203256.99923898, 154792.21299158,\n",
              "       167190.51141052, 164680.22074033, 157555.65966806,  93065.69285714,\n",
              "       131566.08604845, 211885.71283747, 137375.04226173, 154792.21299158,\n",
              "       118647.6130864 , 164680.22074033, 154792.21299158, 118647.6130864 ,\n",
              "       172888.22171995, 118647.6130864 , 157555.65966806, 206533.90452381,\n",
              "       157166.80399503, 154792.21299158, 116987.26030124, 107540.19014472,\n",
              "       172888.22171995, 172888.22171995, 154792.21299158, 212727.51674628,\n",
              "       121623.09100591, 128468.71926346, 131566.08604845,  94615.17916667,\n",
              "       172888.22171995, 211885.71283747, 182698.52031345, 157555.65966806,\n",
              "       189919.8422308 , 154792.21299158, 172888.22171995, 154792.21299158,\n",
              "       154792.21299158, 152454.70764844, 116987.26030124, 156685.87222222,\n",
              "        95413.02414566, 154792.21299158, 131566.08604845])"
            ]
          },
          "metadata": {},
          "execution_count": 260
        }
      ]
    },
    {
      "cell_type": "code",
      "source": [
        "# Evaluar el rendimiento del modelo\n",
        "rf_train_score = rf.score(X_train_processed, y_train)\n",
        "rf_test_score = rf.score(X_test_processed, y_test)\n",
        "print(rf_train_score)\n",
        "print(rf_test_score)"
      ],
      "metadata": {
        "colab": {
          "base_uri": "https://localhost:8080/"
        },
        "id": "1PPwXwSAxBfU",
        "outputId": "19dfe374-93aa-45bb-e9b1-aa11a3e85416"
      },
      "execution_count": 261,
      "outputs": [
        {
          "output_type": "stream",
          "name": "stdout",
          "text": [
            "0.5664974610018964\n",
            "0.3763219865066767\n"
          ]
        }
      ]
    },
    {
      "cell_type": "code",
      "source": [
        "# Establecer max_depth a 9 y evaluar nuestros resultados\n",
        "rf_9 = RandomForestRegressor(max_depth = 9, random_state = 42)\n",
        "rf_9.fit(X_train_processed, y_train)\n",
        "rf_9_train_score = rf_9.score(X_train_processed, y_train)\n",
        "rf_9_test_score = rf_9.score(X_test_processed, y_test)\n",
        "print(rf_9_train_score)\n",
        "print(rf_9_test_score)"
      ],
      "metadata": {
        "colab": {
          "base_uri": "https://localhost:8080/"
        },
        "id": "O-lqAGYaxXDY",
        "outputId": "e7daeee7-430e-47e3-e299-09aeb7d46be6"
      },
      "execution_count": 262,
      "outputs": [
        {
          "output_type": "stream",
          "name": "stdout",
          "text": [
            "0.5113259136534594\n",
            "0.3723654991537174\n"
          ]
        }
      ]
    },
    {
      "cell_type": "code",
      "source": [
        "# Ver cuál era la profundidad de cada árbol en el bosque aleatorio cuando el max_depth era ilimitado\n",
        "[estimator.get_depth() for estimator in rf.estimators_]"
      ],
      "metadata": {
        "colab": {
          "base_uri": "https://localhost:8080/"
        },
        "id": "vvi_kPeUxufq",
        "outputId": "83faa87c-5780-450c-c62d-37f9f3e9988f"
      },
      "execution_count": 263,
      "outputs": [
        {
          "output_type": "execute_result",
          "data": {
            "text/plain": [
              "[40,\n",
              " 38,\n",
              " 46,\n",
              " 37,\n",
              " 42,\n",
              " 43,\n",
              " 38,\n",
              " 37,\n",
              " 41,\n",
              " 42,\n",
              " 42,\n",
              " 36,\n",
              " 43,\n",
              " 43,\n",
              " 41,\n",
              " 40,\n",
              " 39,\n",
              " 40,\n",
              " 39,\n",
              " 38,\n",
              " 43,\n",
              " 35,\n",
              " 45,\n",
              " 40,\n",
              " 43,\n",
              " 45,\n",
              " 39,\n",
              " 39,\n",
              " 41,\n",
              " 44,\n",
              " 42,\n",
              " 45,\n",
              " 41,\n",
              " 45,\n",
              " 40,\n",
              " 41,\n",
              " 46,\n",
              " 42,\n",
              " 44,\n",
              " 40,\n",
              " 39,\n",
              " 41,\n",
              " 41,\n",
              " 40,\n",
              " 36,\n",
              " 44,\n",
              " 42,\n",
              " 45,\n",
              " 42,\n",
              " 39,\n",
              " 46,\n",
              " 44,\n",
              " 40,\n",
              " 42,\n",
              " 40,\n",
              " 42,\n",
              " 36,\n",
              " 42,\n",
              " 44,\n",
              " 40,\n",
              " 46,\n",
              " 46,\n",
              " 45,\n",
              " 43,\n",
              " 38,\n",
              " 46,\n",
              " 41,\n",
              " 42,\n",
              " 42,\n",
              " 48,\n",
              " 39,\n",
              " 41,\n",
              " 44,\n",
              " 42,\n",
              " 37,\n",
              " 40,\n",
              " 40,\n",
              " 42,\n",
              " 43,\n",
              " 41,\n",
              " 48,\n",
              " 44,\n",
              " 40,\n",
              " 45,\n",
              " 42,\n",
              " 39,\n",
              " 40,\n",
              " 43,\n",
              " 43,\n",
              " 39,\n",
              " 42,\n",
              " 42,\n",
              " 39,\n",
              " 48,\n",
              " 40,\n",
              " 43,\n",
              " 41,\n",
              " 44,\n",
              " 42,\n",
              " 40]"
            ]
          },
          "metadata": {},
          "execution_count": 263
        }
      ]
    },
    {
      "cell_type": "code",
      "source": [
        "# Afinar n_estimators\n",
        "# Intentar 200 árboles\n",
        "rf_200 = RandomForestRegressor(n_estimators = 200, random_state = 42)\n",
        "# Ajustar el modelo\n",
        "rf_200.fit(X_train_processed, y_train)\n",
        "# Obtener las puntuaciones\n",
        "rf_200_train_score = rf_200.score(X_train_processed, y_train)\n",
        "rf_200_test_score = rf_200.score(X_test_processed, y_test)\n",
        "print(rf_200_train_score)\n",
        "print(rf_200_test_score)"
      ],
      "metadata": {
        "colab": {
          "base_uri": "https://localhost:8080/"
        },
        "id": "83AnCNZXyAPZ",
        "outputId": "c8fbd7ac-095a-4398-a26f-a72743623709"
      },
      "execution_count": 264,
      "outputs": [
        {
          "output_type": "stream",
          "name": "stdout",
          "text": [
            "0.5667713980245802\n",
            "0.37836275441487155\n"
          ]
        }
      ]
    },
    {
      "cell_type": "markdown",
      "source": [
        "Modelo KNN para predicción del salario"
      ],
      "metadata": {
        "id": "sBvlFZlX_p6O"
      }
    },
    {
      "cell_type": "code",
      "source": [
        "# Importar biblioteca\n",
        "from sklearn.neighbors import KNeighborsClassifier"
      ],
      "metadata": {
        "id": "E3zHerNrAM5d"
      },
      "execution_count": 266,
      "outputs": []
    },
    {
      "cell_type": "code",
      "source": [
        "# hacer una instancia del modelo\n",
        "knn = KNeighborsClassifier(n_neighbors=1)"
      ],
      "metadata": {
        "id": "bPbrSkii_o6v"
      },
      "execution_count": 267,
      "outputs": []
    },
    {
      "cell_type": "code",
      "source": [
        "# Observar hiperparámetros\n",
        "knn.get_params()"
      ],
      "metadata": {
        "colab": {
          "base_uri": "https://localhost:8080/"
        },
        "id": "oS-Rnv7zAVk5",
        "outputId": "ebfee9da-0214-4282-86ff-e163f6deda96"
      },
      "execution_count": 268,
      "outputs": [
        {
          "output_type": "execute_result",
          "data": {
            "text/plain": [
              "{'algorithm': 'auto',\n",
              " 'leaf_size': 30,\n",
              " 'metric': 'minkowski',\n",
              " 'metric_params': None,\n",
              " 'n_jobs': None,\n",
              " 'n_neighbors': 1,\n",
              " 'p': 2,\n",
              " 'weights': 'uniform'}"
            ]
          },
          "metadata": {},
          "execution_count": 268
        }
      ]
    },
    {
      "cell_type": "code",
      "source": [
        "# Poner scaler y el modelo en un pipeline y ajustar el pipeline en los datos de entrenamiento\n",
        "knn_pipe = make_pipeline(scaler, knn)\n",
        "knn_pipe.fit(X_train_processed, y_train)"
      ],
      "metadata": {
        "colab": {
          "base_uri": "https://localhost:8080/",
          "height": 126
        },
        "id": "opvPIhErAbLx",
        "outputId": "b354ac9c-ea92-4a49-fa8b-034c6c4f3004"
      },
      "execution_count": 269,
      "outputs": [
        {
          "output_type": "execute_result",
          "data": {
            "text/plain": [
              "Pipeline(steps=[('standardscaler', StandardScaler()),\n",
              "                ('kneighborsclassifier', KNeighborsClassifier(n_neighbors=1))])"
            ],
            "text/html": [
              "<style>#sk-container-id-36 {color: black;background-color: white;}#sk-container-id-36 pre{padding: 0;}#sk-container-id-36 div.sk-toggleable {background-color: white;}#sk-container-id-36 label.sk-toggleable__label {cursor: pointer;display: block;width: 100%;margin-bottom: 0;padding: 0.3em;box-sizing: border-box;text-align: center;}#sk-container-id-36 label.sk-toggleable__label-arrow:before {content: \"▸\";float: left;margin-right: 0.25em;color: #696969;}#sk-container-id-36 label.sk-toggleable__label-arrow:hover:before {color: black;}#sk-container-id-36 div.sk-estimator:hover label.sk-toggleable__label-arrow:before {color: black;}#sk-container-id-36 div.sk-toggleable__content {max-height: 0;max-width: 0;overflow: hidden;text-align: left;background-color: #f0f8ff;}#sk-container-id-36 div.sk-toggleable__content pre {margin: 0.2em;color: black;border-radius: 0.25em;background-color: #f0f8ff;}#sk-container-id-36 input.sk-toggleable__control:checked~div.sk-toggleable__content {max-height: 200px;max-width: 100%;overflow: auto;}#sk-container-id-36 input.sk-toggleable__control:checked~label.sk-toggleable__label-arrow:before {content: \"▾\";}#sk-container-id-36 div.sk-estimator input.sk-toggleable__control:checked~label.sk-toggleable__label {background-color: #d4ebff;}#sk-container-id-36 div.sk-label input.sk-toggleable__control:checked~label.sk-toggleable__label {background-color: #d4ebff;}#sk-container-id-36 input.sk-hidden--visually {border: 0;clip: rect(1px 1px 1px 1px);clip: rect(1px, 1px, 1px, 1px);height: 1px;margin: -1px;overflow: hidden;padding: 0;position: absolute;width: 1px;}#sk-container-id-36 div.sk-estimator {font-family: monospace;background-color: #f0f8ff;border: 1px dotted black;border-radius: 0.25em;box-sizing: border-box;margin-bottom: 0.5em;}#sk-container-id-36 div.sk-estimator:hover {background-color: #d4ebff;}#sk-container-id-36 div.sk-parallel-item::after {content: \"\";width: 100%;border-bottom: 1px solid gray;flex-grow: 1;}#sk-container-id-36 div.sk-label:hover label.sk-toggleable__label {background-color: #d4ebff;}#sk-container-id-36 div.sk-serial::before {content: \"\";position: absolute;border-left: 1px solid gray;box-sizing: border-box;top: 0;bottom: 0;left: 50%;z-index: 0;}#sk-container-id-36 div.sk-serial {display: flex;flex-direction: column;align-items: center;background-color: white;padding-right: 0.2em;padding-left: 0.2em;position: relative;}#sk-container-id-36 div.sk-item {position: relative;z-index: 1;}#sk-container-id-36 div.sk-parallel {display: flex;align-items: stretch;justify-content: center;background-color: white;position: relative;}#sk-container-id-36 div.sk-item::before, #sk-container-id-36 div.sk-parallel-item::before {content: \"\";position: absolute;border-left: 1px solid gray;box-sizing: border-box;top: 0;bottom: 0;left: 50%;z-index: -1;}#sk-container-id-36 div.sk-parallel-item {display: flex;flex-direction: column;z-index: 1;position: relative;background-color: white;}#sk-container-id-36 div.sk-parallel-item:first-child::after {align-self: flex-end;width: 50%;}#sk-container-id-36 div.sk-parallel-item:last-child::after {align-self: flex-start;width: 50%;}#sk-container-id-36 div.sk-parallel-item:only-child::after {width: 0;}#sk-container-id-36 div.sk-dashed-wrapped {border: 1px dashed gray;margin: 0 0.4em 0.5em 0.4em;box-sizing: border-box;padding-bottom: 0.4em;background-color: white;}#sk-container-id-36 div.sk-label label {font-family: monospace;font-weight: bold;display: inline-block;line-height: 1.2em;}#sk-container-id-36 div.sk-label-container {text-align: center;}#sk-container-id-36 div.sk-container {/* jupyter's `normalize.less` sets `[hidden] { display: none; }` but bootstrap.min.css set `[hidden] { display: none !important; }` so we also need the `!important` here to be able to override the default hidden behavior on the sphinx rendered scikit-learn.org. See: https://github.com/scikit-learn/scikit-learn/issues/21755 */display: inline-block !important;position: relative;}#sk-container-id-36 div.sk-text-repr-fallback {display: none;}</style><div id=\"sk-container-id-36\" class=\"sk-top-container\"><div class=\"sk-text-repr-fallback\"><pre>Pipeline(steps=[(&#x27;standardscaler&#x27;, StandardScaler()),\n",
              "                (&#x27;kneighborsclassifier&#x27;, KNeighborsClassifier(n_neighbors=1))])</pre><b>In a Jupyter environment, please rerun this cell to show the HTML representation or trust the notebook. <br />On GitHub, the HTML representation is unable to render, please try loading this page with nbviewer.org.</b></div><div class=\"sk-container\" hidden><div class=\"sk-item sk-dashed-wrapped\"><div class=\"sk-label-container\"><div class=\"sk-label sk-toggleable\"><input class=\"sk-toggleable__control sk-hidden--visually\" id=\"sk-estimator-id-116\" type=\"checkbox\" ><label for=\"sk-estimator-id-116\" class=\"sk-toggleable__label sk-toggleable__label-arrow\">Pipeline</label><div class=\"sk-toggleable__content\"><pre>Pipeline(steps=[(&#x27;standardscaler&#x27;, StandardScaler()),\n",
              "                (&#x27;kneighborsclassifier&#x27;, KNeighborsClassifier(n_neighbors=1))])</pre></div></div></div><div class=\"sk-serial\"><div class=\"sk-item\"><div class=\"sk-estimator sk-toggleable\"><input class=\"sk-toggleable__control sk-hidden--visually\" id=\"sk-estimator-id-117\" type=\"checkbox\" ><label for=\"sk-estimator-id-117\" class=\"sk-toggleable__label sk-toggleable__label-arrow\">StandardScaler</label><div class=\"sk-toggleable__content\"><pre>StandardScaler()</pre></div></div></div><div class=\"sk-item\"><div class=\"sk-estimator sk-toggleable\"><input class=\"sk-toggleable__control sk-hidden--visually\" id=\"sk-estimator-id-118\" type=\"checkbox\" ><label for=\"sk-estimator-id-118\" class=\"sk-toggleable__label sk-toggleable__label-arrow\">KNeighborsClassifier</label><div class=\"sk-toggleable__content\"><pre>KNeighborsClassifier(n_neighbors=1)</pre></div></div></div></div></div></div></div>"
            ]
          },
          "metadata": {},
          "execution_count": 269
        }
      ]
    },
    {
      "cell_type": "code",
      "source": [
        "# Predecir los valores para el conjunto de prueba\n",
        "predictions = knn_pipe.predict(X_test_processed)\n",
        "predictions"
      ],
      "metadata": {
        "colab": {
          "base_uri": "https://localhost:8080/"
        },
        "id": "nFjk0dSNAj3T",
        "outputId": "9e6d6f78-dc1f-48a4-9c22-0a03901d89f7"
      },
      "execution_count": 271,
      "outputs": [
        {
          "output_type": "execute_result",
          "data": {
            "text/plain": [
              "array([183600, 127000, 136000, 350000,  85000, 157000, 140000,  55000,\n",
              "        12767, 145000,  52533, 188700, 172200,  17022,  95000, 138000,\n",
              "       160000, 136000, 188700, 140000,  90000, 127000, 188700, 135000,\n",
              "       140000, 160000, 170000, 127000, 174000, 102100, 150000, 127000,\n",
              "       144000, 130000,  51321, 155000,  12767,  50000,  95000, 172200,\n",
              "       200000, 220000,  69751, 109024, 154600,  95000, 180000, 172200,\n",
              "       120000, 101943,  16414, 200000, 140000, 127000, 140000, 154600,\n",
              "       100000, 140000, 136000, 127467, 172200, 120000,  50432, 140000,\n",
              "       150000,  17022,  90000, 124000, 100000, 140000, 159000, 100000,\n",
              "       130760,  90000, 148500, 180000, 140000, 128000, 200000, 123000,\n",
              "        80036, 140000, 172200, 220000, 183000,  64385, 116250, 172200,\n",
              "       121093, 156400,  97218, 188000, 136000, 120000, 116250, 127000,\n",
              "       140000,  62000, 220000, 136000, 136000,  94000, 136000, 172200,\n",
              "        76000, 220000, 185000, 131300, 160000, 140000, 110000, 127000,\n",
              "        95000, 172200,  95000,  90000,  90000,  89306, 188700, 136000,\n",
              "        45618, 188700, 100000,  95000,  95000, 172200, 195400, 145000,\n",
              "        48609, 145000, 136000, 205000,  10000, 148800, 125000, 136000,\n",
              "       112000, 172200, 172200, 116250, 127000, 242000, 205000, 140000,\n",
              "        95000, 172200, 172200, 136000,  95000, 185900, 100000, 221300,\n",
              "       102200, 127000, 188700, 172200, 172200, 225000, 188700, 145000,\n",
              "       120000, 188700,  45618,  15806,  55000, 242000, 140000, 188700,\n",
              "        75050, 120000, 188700, 219000,  57723, 188700, 130000, 100000,\n",
              "       190000, 100000, 145000, 140000,  85000, 150000, 169000,  73546,\n",
              "       170000, 140000, 120000, 140000, 188700,  95000, 145000, 160000,\n",
              "       203000, 250000, 172200, 172200, 149040, 145000, 100000,  61566,\n",
              "       140000, 136000, 130000, 184000, 172200, 134500, 140000, 172200,\n",
              "       100000, 144000, 160000,  90000, 100000, 100000,  95000, 160000,\n",
              "       172200, 172200,  74000, 140000,  95000, 103432, 220000, 140000,\n",
              "        67000,  88654, 136000, 100000,  95000, 127000, 140000, 116250,\n",
              "       145000, 100000, 172200, 169000, 172200, 140000,  50000, 172200,\n",
              "        95000, 188700, 127000, 116250, 100000, 136000,  95000, 150000,\n",
              "        95000, 140000, 112000, 172200,  95000, 188700, 171250, 136000,\n",
              "       154600, 136000,  37824, 136000, 172200, 185000, 150000, 188700,\n",
              "       140000, 140000, 183000, 127000, 103432, 188700,  18053, 140000,\n",
              "       140000, 172200, 188700, 136000,  73546, 145000, 127000, 135000,\n",
              "        95000, 100000, 140000,  50432, 172200, 138750, 132000, 145000,\n",
              "        63831, 220000, 149040, 136000, 136000, 127000, 154600,  80036,\n",
              "        92350,  50000, 145000, 172200, 127000,  95000, 136000, 100000,\n",
              "       140000,  94000, 136000, 136000, 188700, 146200, 140000, 188700,\n",
              "       160000,  86193, 150000, 148500, 172200, 128000, 210000, 172200,\n",
              "       188700,  95000, 188700, 188700, 195400,  90000, 183000, 140000,\n",
              "        88654, 172200, 172200, 116250, 149040,  90000, 100000, 145000,\n",
              "        37824, 185000, 149040, 167500,  47280, 185000, 172200,  89306,\n",
              "       115447,  86193,  95000,  31520,  14307,  50000,  90000, 136000,\n",
              "        37824, 150000, 140000, 159000, 172200,  95000,  73546,  21844,\n",
              "       145000, 127000, 172200, 150000, 180000, 136000, 136000,  37824,\n",
              "       100000, 132000,  95000, 145000, 145000, 174000, 100000, 136000,\n",
              "       128000, 195895, 145000, 172200, 140000, 157000, 172200, 172200,\n",
              "        64000, 140000,  95000, 136000, 180000,  80036, 172200, 140000,\n",
              "       145000,  95000, 172200, 172200, 149040, 272000, 172200, 127000,\n",
              "        34320,  88654,  16904,  50432, 180000, 116250, 160000, 140000,\n",
              "       100000,  95000,  24740, 188700, 132000, 220000, 242000, 140000,\n",
              "       127000,  80000, 135000, 172200, 138750, 160000,  73546, 136000,\n",
              "       145000,  73546, 140000, 140000, 100000, 172200, 172200,  75774,\n",
              "       172200,  95000, 136000, 172200, 172200, 100000,  66022, 145000,\n",
              "       350000,  62726, 145000, 140000, 188700,  55475, 140000, 140000,\n",
              "       145000,  80000, 125000,  95000,  58000, 127000, 140000, 145000,\n",
              "       160000, 172200, 136000,  95000, 193000,  80036, 165750, 100000,\n",
              "       172200, 146200, 160000,  95000, 106000, 113000, 145000, 127599,\n",
              "       135000, 210000, 188700,  62649, 126080,  90000, 155000, 145000,\n",
              "        77300, 145000, 127000, 202353,  55000,  78990,  75000,  80036,\n",
              "       172200,  95000, 135000, 350000,  18053, 190000, 150000, 188700,\n",
              "        42533,  95000,  90000,  90000, 150000, 100000, 188000,  90000,\n",
              "       136000,  95000, 110000, 113000, 140000, 140000, 188700, 128000,\n",
              "       171000, 154600, 127000, 275000, 140000, 225000, 172200,  95000,\n",
              "       150000,  55800, 100000, 145000, 160000, 100000, 100000, 127000,\n",
              "       149040, 160000, 100000, 150000,  37824, 106000, 180000, 188700,\n",
              "       140000, 172200,  30000, 160000, 140000, 150000, 145000, 103160,\n",
              "        95000, 188700, 172200, 220000, 380000, 220000, 140000, 136000,\n",
              "       180000, 203000, 188700, 165000,  43096,  75116, 180000, 102100,\n",
              "       169000, 172200, 214618, 145000,  90000,  12103, 203000, 127000,\n",
              "       127000,  95000, 350000, 140000, 172200, 115000, 127000, 140000,\n",
              "       140000, 172200, 136000, 250000,  97218,  90000,  80036, 135000,\n",
              "        95000, 116250, 172200,  13400, 140000, 100000, 140000,  37824,\n",
              "       188700, 120000, 100000, 188700, 145000, 174000, 203000, 127000,\n",
              "       140000,  72000, 169000,  73546,  95000, 160000, 100000, 188700,\n",
              "       160000, 117104, 172200, 100000, 140000, 136000, 140000, 136000,\n",
              "       127000,  45391, 185000, 172200, 103000, 127000, 127000, 145000,\n",
              "       140000, 160000, 190000, 350000, 172200,  53368, 172200, 188700,\n",
              "       140000, 145000, 145000, 103432, 120000, 113000,  95000, 136000,\n",
              "        95000, 100000,  62000, 350000, 120000, 380000, 172200, 112000,\n",
              "       220000,  42533, 103160, 188700,  35610,  95000, 172200, 117104,\n",
              "        37824,  95000, 136000, 180000,  42533, 116250,  28368,  90000,\n",
              "       145000, 100000, 149040, 145000, 235000, 109024, 190000,  74000,\n",
              "        90000,  77262, 172200, 116250, 140000, 145000,  86193, 106000,\n",
              "       149040, 180000, 172200, 180000, 127000, 210000,  30000, 130026,\n",
              "       140000, 115000, 180000, 172200, 172200,  80000, 136000, 120000,\n",
              "        30428, 172200, 160000, 136000, 140000, 100000, 172200,  95000,\n",
              "        75000, 100000,  75000, 145000, 195400,  54365, 140000, 134000,\n",
              "        75000, 135000, 165000, 140000, 138000, 102100, 242000, 188700,\n",
              "       136000,  95000, 100000, 100000, 172200, 127599, 115000, 120000,\n",
              "        61566, 145000, 136000, 140000, 195400, 140000, 101228,  60938,\n",
              "       150000, 183000, 120000, 160000, 188700,  28368,  95000, 188700,\n",
              "       100000, 136000,  95000, 136000,  62000,  50432,  50432,  73546,\n",
              "       125000,  95000, 188700, 188700, 188700, 136000,  70186, 160000,\n",
              "       140000, 100000, 102100, 170000, 120000, 145000, 100000, 100000,\n",
              "        42533, 160000,  95000, 136000, 200000, 140000,  95000, 190000,\n",
              "        55000,  61566,  48609, 149040, 172200,  75000,  75050,  70000,\n",
              "        88654, 172200, 169000,  95000,  62000,  95000, 205000, 189750,\n",
              "       130760,  51064, 145000,  47280, 100000, 185900, 172200, 136000,\n",
              "       127000,  95000, 116250, 159000, 130000, 136000, 188700, 140000,\n",
              "       172200,  34320, 185000, 127000, 188700,  80036, 145000, 154600,\n",
              "       140000, 140000, 172200,  90000, 180000, 160000, 127000, 102100,\n",
              "        95000,  62000, 145000, 140000, 100000,  65000, 220000, 172200,\n",
              "        90000, 145000, 180000, 203000, 205000, 136000, 188700, 175000,\n",
              "        94000, 220000, 172200, 100000,  97218, 120000, 127000,  37824,\n",
              "        95000, 127000, 188700, 188700, 145000,  16904,  90000,  72000,\n",
              "       159000, 140000, 140000, 188700,  75050, 100000,  95000, 172200,\n",
              "       113000, 136000,  55475, 183600, 200000, 140000, 172200,  90000,\n",
              "       160000,  75000,  54000,  65000, 188700,  18314,  55000, 188700,\n",
              "        65257,  55000, 172200, 127000, 172200, 149040, 127000,  45391,\n",
              "       145000, 136000, 136850, 188700,  35610, 172200, 350000, 172200,\n",
              "       136000, 140000, 188700, 105000,  90000, 120000, 102100, 172200,\n",
              "       127000, 140000, 172200, 127000, 145000, 127000, 188700, 182160,\n",
              "       130000, 172200, 100000, 190000, 145000, 145000, 172200, 170000,\n",
              "       160000,  95000,  90000,  63040, 145000, 120000, 205000, 188700,\n",
              "       220000, 172200, 145000, 172200, 172200, 159000, 100000, 144000,\n",
              "       120000, 172200,  90000])"
            ]
          },
          "metadata": {},
          "execution_count": 271
        }
      ]
    },
    {
      "cell_type": "code",
      "source": [
        "# Evaluar rendimiento en conjunto de prueba\n",
        "# Calcular la exactitud de la clasificación\n",
        "acc_score = knn_pipe.score(X_test_processed, y_test)\n",
        "acc_score"
      ],
      "metadata": {
        "colab": {
          "base_uri": "https://localhost:8080/"
        },
        "id": "HlZzH-AiA03O",
        "outputId": "1652df2f-84ba-4aa4-ce26-aa21dc13e657"
      },
      "execution_count": 273,
      "outputs": [
        {
          "output_type": "execute_result",
          "data": {
            "text/plain": [
              "0.0362087326943557"
            ]
          },
          "metadata": {},
          "execution_count": 273
        }
      ]
    },
    {
      "cell_type": "markdown",
      "source": [
        "El modelo con los mejores resultados es el de \"bosques aleatorios\""
      ],
      "metadata": {
        "id": "kqwkpidDBcYm"
      }
    },
    {
      "cell_type": "markdown",
      "source": [
        "Red neuronal aplicada al problema de regresión"
      ],
      "metadata": {
        "id": "xgMWt5_mF9JO"
      }
    },
    {
      "cell_type": "code",
      "source": [
        "# Importar bibliotecas\n",
        "from tensorflow.keras.models import Sequential\n",
        "from tensorflow.keras.layers import Dense"
      ],
      "metadata": {
        "id": "kN3DwYUcGfbR"
      },
      "execution_count": 275,
      "outputs": []
    },
    {
      "cell_type": "code",
      "source": [
        "# Definir estructura de red\n",
        "# Grabar el número de características que tenemos para \"input\"\n",
        "input_shape = X_train_processed.shape[1]\n",
        "input_shape"
      ],
      "metadata": {
        "colab": {
          "base_uri": "https://localhost:8080/"
        },
        "id": "4DpblSnDGAgj",
        "outputId": "aa923be9-080d-4dd6-fc32-4856edda2f4d"
      },
      "execution_count": 274,
      "outputs": [
        {
          "output_type": "execute_result",
          "data": {
            "text/plain": [
              "228"
            ]
          },
          "metadata": {},
          "execution_count": 274
        }
      ]
    },
    {
      "cell_type": "code",
      "source": [
        "# Modelo secuencial\n",
        "model = Sequential()"
      ],
      "metadata": {
        "id": "vxDwtOzmGA3k"
      },
      "execution_count": 276,
      "outputs": []
    },
    {
      "cell_type": "code",
      "source": [
        "# Se aplicarán dos capas\n",
        "# First hidden layer\n",
        "model.add(Dense(228, # How many neurons you have in your first hidden layer\n",
        "                input_dim = input_shape, # What is the shape of your input features (number of columns)\n",
        "                activation = 'relu')) # What activation function are you using?\n",
        "# Second hidden layer\n",
        "model.add(Dense(10, # How many neurons you have in your second hidden layer\n",
        "                activation = 'relu')) # What activation function are you using?"
      ],
      "metadata": {
        "id": "Ka3Zl6BJGArV"
      },
      "execution_count": 277,
      "outputs": []
    },
    {
      "cell_type": "code",
      "source": [
        "# Output layer\n",
        "model.add(Dense(1, activation = 'linear'))"
      ],
      "metadata": {
        "id": "dP5ZCICTGzj9"
      },
      "execution_count": 279,
      "outputs": []
    },
    {
      "cell_type": "code",
      "source": [
        "# Compilar modelo\n",
        "model.compile(loss = 'mse', optimizer = 'adam')"
      ],
      "metadata": {
        "id": "1r04yw1mHKcb"
      },
      "execution_count": 287,
      "outputs": []
    },
    {
      "cell_type": "code",
      "source": [
        "# Ajustar modelo\n",
        "history = model.fit(X_train_processed, y_train,\n",
        "                    validation_data = (X_test_processed, y_test), \n",
        "                    epochs=10)"
      ],
      "metadata": {
        "colab": {
          "base_uri": "https://localhost:8080/"
        },
        "id": "plmE-ipbHOfR",
        "outputId": "bdf01988-2fd7-40c0-df86-3bffe66fce6a"
      },
      "execution_count": 288,
      "outputs": [
        {
          "output_type": "stream",
          "name": "stdout",
          "text": [
            "Epoch 1/10\n",
            "88/88 [==============================] - 2s 9ms/step - loss: 22932168704.0000 - val_loss: 22792747008.0000\n",
            "Epoch 2/10\n",
            "88/88 [==============================] - 1s 6ms/step - loss: 22910269440.0000 - val_loss: 22748786688.0000\n",
            "Epoch 3/10\n",
            "88/88 [==============================] - 0s 5ms/step - loss: 22829733888.0000 - val_loss: 22626017280.0000\n",
            "Epoch 4/10\n",
            "88/88 [==============================] - 0s 6ms/step - loss: 22648582144.0000 - val_loss: 22384089088.0000\n",
            "Epoch 5/10\n",
            "88/88 [==============================] - 0s 5ms/step - loss: 22330331136.0000 - val_loss: 21989670912.0000\n",
            "Epoch 6/10\n",
            "88/88 [==============================] - 1s 6ms/step - loss: 21845547008.0000 - val_loss: 21421893632.0000\n",
            "Epoch 7/10\n",
            "88/88 [==============================] - 0s 5ms/step - loss: 21174773760.0000 - val_loss: 20661362688.0000\n",
            "Epoch 8/10\n",
            "88/88 [==============================] - 0s 4ms/step - loss: 20308445184.0000 - val_loss: 19710562304.0000\n",
            "Epoch 9/10\n",
            "88/88 [==============================] - 0s 4ms/step - loss: 19248130048.0000 - val_loss: 18576697344.0000\n",
            "Epoch 10/10\n",
            "88/88 [==============================] - 0s 4ms/step - loss: 18008532992.0000 - val_loss: 17269809152.0000\n"
          ]
        }
      ]
    },
    {
      "cell_type": "code",
      "source": [
        "# Visualize the loss\n",
        "plt.plot(history.history['loss'], label='Train loss')\n",
        "plt.plot(history.history['val_loss'], label='Test Loss')\n",
        "plt.legend();"
      ],
      "metadata": {
        "colab": {
          "base_uri": "https://localhost:8080/",
          "height": 445
        },
        "id": "VbQBMKCbIpHY",
        "outputId": "a444f0c7-d6b9-4e76-9d29-57099743f42d"
      },
      "execution_count": 289,
      "outputs": [
        {
          "output_type": "display_data",
          "data": {
            "text/plain": [
              "<Figure size 640x480 with 1 Axes>"
            ],
            "image/png": "[encoded data removed]"
          },
          "metadata": {}
        }
      ]
    }
  ]
}